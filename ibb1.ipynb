{
 "cells": [
  {
   "cell_type": "code",
   "execution_count": 90,
   "metadata": {},
   "outputs": [],
   "source": [
    "import os\n",
    "from PIL import Image\n",
    "import numpy as np\n",
    "from scipy.spatial import distance\n",
    "import math\n",
    "import tqdm\n",
    "\n",
    "from scipy import spatial\n",
    "import cv2\n",
    "from skimage import feature"
   ]
  },
  {
   "cell_type": "markdown",
   "metadata": {},
   "source": [
    "# PIXEL BY PIXEL\n",
    "<hr>"
   ]
  },
  {
   "cell_type": "code",
   "execution_count": 91,
   "metadata": {},
   "outputs": [],
   "source": [
    "#read all images\n",
    "def loadImages(path = 'awe/'):\n",
    "    subfolders = [ f.path + \"/\" for f in os.scandir(path) if f.is_dir() ]\n",
    "    return [ f.path for images in subfolders for f in os.scandir(images) if f.name[-3:] == 'png']\n",
    "\n",
    "#convert image to greyscale and resize it to 128,128 if the other size not is given as argument\n",
    "def convert(image,size=(128, 128)):\n",
    "    return Image.open(image).convert(\"L\").resize(size)"
   ]
  },
  {
   "cell_type": "code",
   "execution_count": 92,
   "metadata": {},
   "outputs": [],
   "source": [
    "#save all path images in one array\n",
    "imagePaths = loadImages()"
   ]
  },
  {
   "cell_type": "code",
   "execution_count": 93,
   "metadata": {},
   "outputs": [],
   "source": [
    "#get image as one vector\n",
    "def pixelByPixel(image,size=(128,128)):\n",
    "    im = convert(image,size)\n",
    "    return np.array(list(im.getdata()))"
   ]
  },
  {
   "cell_type": "code",
   "execution_count": 94,
   "metadata": {},
   "outputs": [],
   "source": [
    "#calculate distances between 2 vectors\n",
    "def euclidian(im1,im2):\n",
    "    return distance.euclidean(im1, im2)"
   ]
  },
  {
   "cell_type": "code",
   "execution_count": 95,
   "metadata": {},
   "outputs": [],
   "source": [
    "#calculate distances between 2 vectors\n",
    "def cosine(im1,im2):\n",
    "    return distance.cosine(im1, im2)"
   ]
  },
  {
   "cell_type": "code",
   "execution_count": 7,
   "metadata": {},
   "outputs": [],
   "source": [
    "#create list of all images saved as pixel by pixel\n",
    "def load(size=(128,128)):\n",
    "    images = []\n",
    "    for i in loadImages():\n",
    "        images.append(pixelByPixel(i,size)) \n",
    "    return images"
   ]
  },
  {
   "cell_type": "code",
   "execution_count": 8,
   "metadata": {},
   "outputs": [],
   "source": [
    "#create list of all images saved as pixel by pixel 128x128\n",
    "images = load()"
   ]
  },
  {
   "cell_type": "code",
   "execution_count": 9,
   "metadata": {},
   "outputs": [],
   "source": [
    "#create list of all images saved as pixel by pixel 256x256\n",
    "imagesSize = load((64,64))"
   ]
  },
  {
   "cell_type": "code",
   "execution_count": 10,
   "metadata": {},
   "outputs": [],
   "source": [
    "#accuracy EUCLID:calculate distance between each vector and save for each vector minimum distance\n",
    "def euclidDist(images):\n",
    "    minDist = []\n",
    "    for i in tqdm.tqdm(range(len(images))):\n",
    "        arr = []\n",
    "        for j in range(len(images)):\n",
    "            if i!=j:\n",
    "                arr.append((i,j,euclidian(images[i],images[j])))\n",
    "        minDist.append(sorted(arr, key=lambda x: x[2])[0])\n",
    "    return sum([imagePaths[minDist[i][0]].split(\"/\")[-2] == imagePaths[minDist[i][1]].split(\"/\")[-2] for i in range(len(minDist))])/len(minDist)"
   ]
  },
  {
   "cell_type": "code",
   "execution_count": 11,
   "metadata": {},
   "outputs": [
    {
     "name": "stderr",
     "output_type": "stream",
     "text": [
      "100%|██████████████████████████████████████████████████████████████████████████████| 1000/1000 [00:57<00:00, 17.33it/s]\n"
     ]
    },
    {
     "data": {
      "text/plain": [
       "0.132"
      ]
     },
     "execution_count": 11,
     "metadata": {},
     "output_type": "execute_result"
    }
   ],
   "source": [
    "#pixel by pixel euclid distance 128x128\n",
    "euclidDist(images)"
   ]
  },
  {
   "cell_type": "code",
   "execution_count": 12,
   "metadata": {},
   "outputs": [
    {
     "name": "stderr",
     "output_type": "stream",
     "text": [
      "100%|██████████████████████████████████████████████████████████████████████████████| 1000/1000 [00:31<00:00, 32.19it/s]\n"
     ]
    },
    {
     "data": {
      "text/plain": [
       "0.132"
      ]
     },
     "execution_count": 12,
     "metadata": {},
     "output_type": "execute_result"
    }
   ],
   "source": [
    "#pixel by pixel euclid distance 64x64\n",
    "euclidDist(imagesSize)"
   ]
  },
  {
   "cell_type": "code",
   "execution_count": 13,
   "metadata": {},
   "outputs": [],
   "source": [
    "#accuracy COSINE:calculate distance between each vector and save for each vector minimum distance\n",
    "def cosineDist(images):\n",
    "    minDistcosin = []\n",
    "    for i in tqdm.tqdm(range(len(images))):\n",
    "        arr = []\n",
    "        for j in range(len(images)):\n",
    "            if i!=j:\n",
    "                arr.append((i,j,cosine(images[i],images[j])))\n",
    "        minDistcosin.append(sorted(arr, key=lambda x: x[2])[0])\n",
    "    return sum([imagePaths[minDistcosin[i][0]].split(\"/\")[-2] == imagePaths[minDistcosin[i][1]].split(\"/\")[-2] for i in range(len(minDistcosin))])/len(minDistcosin)"
   ]
  },
  {
   "cell_type": "code",
   "execution_count": 14,
   "metadata": {},
   "outputs": [
    {
     "name": "stderr",
     "output_type": "stream",
     "text": [
      "100%|██████████████████████████████████████████████████████████████████████████████| 1000/1000 [02:47<00:00,  5.99it/s]\n"
     ]
    },
    {
     "data": {
      "text/plain": [
       "0.167"
      ]
     },
     "execution_count": 14,
     "metadata": {},
     "output_type": "execute_result"
    }
   ],
   "source": [
    "#pixel by pixel cosine distance 128x128\n",
    "cosineDist(images)"
   ]
  },
  {
   "cell_type": "code",
   "execution_count": 15,
   "metadata": {},
   "outputs": [
    {
     "name": "stderr",
     "output_type": "stream",
     "text": [
      "100%|██████████████████████████████████████████████████████████████████████████████| 1000/1000 [01:28<00:00, 11.25it/s]\n"
     ]
    },
    {
     "data": {
      "text/plain": [
       "0.168"
      ]
     },
     "execution_count": 15,
     "metadata": {},
     "output_type": "execute_result"
    }
   ],
   "source": [
    "#pixel by pixel cosine distance 64x64\n",
    "cosineDist(imagesSize)"
   ]
  },
  {
   "cell_type": "markdown",
   "metadata": {},
   "source": [
    "# Local Binary Pattern\n",
    "<hr>"
   ]
  },
  {
   "cell_type": "code",
   "execution_count": 16,
   "metadata": {},
   "outputs": [],
   "source": [
    "#get all pictures as greyscale and size default 128x128\n",
    "def loadlbp(size=(128,128)):\n",
    "    imageLBP = []\n",
    "    for path in imagePaths:\n",
    "        imageLBP.append(convert(path,size))\n",
    "    return imageLBP"
   ]
  },
  {
   "cell_type": "code",
   "execution_count": 17,
   "metadata": {},
   "outputs": [],
   "source": [
    "#get all pictures as greyscale and size default 128x128\n",
    "imageLBP = loadlbp()"
   ]
  },
  {
   "cell_type": "code",
   "execution_count": 18,
   "metadata": {},
   "outputs": [],
   "source": [
    "#get all pictures as greyscale and size default 64x64\n",
    "imageLBPSize = loadlbp((64,64))"
   ]
  },
  {
   "cell_type": "code",
   "execution_count": 19,
   "metadata": {},
   "outputs": [],
   "source": [
    "# get matrix\n",
    "def matrix(image,currentPos,size=1):\n",
    "    region = []\n",
    "    for y in range(currentPos[1]-size,currentPos[1]+size+1):\n",
    "        if y < 0 or y >= image.size[1]:\n",
    "            row = [0 for _ in range(size * 2 + 1)]\n",
    "        else:\n",
    "            row = []\n",
    "            for x in range(currentPos[0]-size,currentPos[0]+size+1):\n",
    "                if x < 0 or x >= image.size[0]:\n",
    "                    row.append(0)\n",
    "                else:\n",
    "                    row.append(image.getpixel((x,y)))\n",
    "        region.append(row)\n",
    "    return region        "
   ]
  },
  {
   "cell_type": "code",
   "execution_count": 20,
   "metadata": {},
   "outputs": [],
   "source": [
    "# imageLBP[0]"
   ]
  },
  {
   "cell_type": "code",
   "execution_count": 21,
   "metadata": {},
   "outputs": [],
   "source": [
    "# matrix(imageLBP[0],(0,0),2)"
   ]
  },
  {
   "cell_type": "code",
   "execution_count": 22,
   "metadata": {},
   "outputs": [],
   "source": [
    "# matrix(imageLBP[0],(0,0),3)"
   ]
  },
  {
   "cell_type": "code",
   "execution_count": 23,
   "metadata": {},
   "outputs": [],
   "source": [
    "#change values of matrix to 0 and 1\n",
    "def lbp(matrix):\n",
    "    binaryarr = []\n",
    "    centery,centerx = int(len(matrix) /2),int(len(matrix[0]) /2)\n",
    "    for j in range(len(matrix)):\n",
    "        row = []\n",
    "        for i in range(len(matrix[j])):\n",
    "            if (i,j) != (centerx,centery):\n",
    "                row.append(int(matrix[centery][centerx] < matrix[j][i]))\n",
    "            else:\n",
    "                row.append(0)\n",
    "        binaryarr.append(row)\n",
    "        \n",
    " \n",
    "    return binaryarr"
   ]
  },
  {
   "cell_type": "code",
   "execution_count": 24,
   "metadata": {},
   "outputs": [],
   "source": [
    "# lbp(matrix(imageLBP[0],(0,0),))"
   ]
  },
  {
   "cell_type": "code",
   "execution_count": 25,
   "metadata": {},
   "outputs": [],
   "source": [
    "#binary matrix transform to array\n",
    "def matrixToArray(matrix):\n",
    "    arr = np.array(matrix)\n",
    "    return list(arr[0,:]) + list(arr[1:, -1]) + list(arr[-1, -2::-1]) + list(reversed(arr[1:-1, 0]))"
   ]
  },
  {
   "cell_type": "code",
   "execution_count": 26,
   "metadata": {},
   "outputs": [],
   "source": [
    "#binary array to decimal values\n",
    "def binToDec(binary):\n",
    "    val = 0\n",
    "    for i in range(len(binary)):\n",
    "        val = val * 2 + binary[i]\n",
    "    return val "
   ]
  },
  {
   "cell_type": "code",
   "execution_count": 27,
   "metadata": {},
   "outputs": [],
   "source": [
    "#all images to lbp look\n",
    "def imageToLBP(imageLBP,size=1):\n",
    "    newImages = []\n",
    "    for i in tqdm.tqdm(range(len(imageLBP))):\n",
    "        newImageLBP = imageLBP[i].copy()\n",
    "        for y in range(imageLBP[i].size[1]):\n",
    "            for x in range(imageLBP[i].size[0]):\n",
    "                neighbour = matrix(imageLBP[i],(x,y),size)\n",
    "                newImageLBP.putpixel((x, y), int(binToDec(matrixToArray(lbp(neighbour)))))\n",
    "        newImages.append(newImageLBP)\n",
    "    return newImages"
   ]
  },
  {
   "cell_type": "code",
   "execution_count": 28,
   "metadata": {},
   "outputs": [
    {
     "name": "stderr",
     "output_type": "stream",
     "text": [
      "100%|██████████████████████████████████████████████████████████████████████████████| 1000/1000 [09:50<00:00,  1.69it/s]\n"
     ]
    }
   ],
   "source": [
    "#all images to lbp look\n",
    "newImages = imageToLBP(imageLBP)"
   ]
  },
  {
   "cell_type": "code",
   "execution_count": 29,
   "metadata": {},
   "outputs": [
    {
     "name": "stderr",
     "output_type": "stream",
     "text": [
      "100%|██████████████████████████████████████████████████████████████████████████████| 1000/1000 [21:52<00:00,  1.31s/it]\n"
     ]
    }
   ],
   "source": [
    "#all images to lbp look different range = 2\n",
    "newImages2 = imageToLBP(imageLBP,2)"
   ]
  },
  {
   "cell_type": "code",
   "execution_count": 30,
   "metadata": {},
   "outputs": [
    {
     "name": "stderr",
     "output_type": "stream",
     "text": [
      "100%|██████████████████████████████████████████████████████████████████████████████| 1000/1000 [04:37<00:00,  3.60it/s]\n"
     ]
    }
   ],
   "source": [
    "#all images to lbp look 64x64\n",
    "newImageSize = imageToLBP(imageLBPSize)"
   ]
  },
  {
   "cell_type": "code",
   "execution_count": 31,
   "metadata": {},
   "outputs": [
    {
     "name": "stderr",
     "output_type": "stream",
     "text": [
      "100%|██████████████████████████████████████████████████████████████████████████████| 1000/1000 [06:21<00:00,  2.62it/s]\n"
     ]
    }
   ],
   "source": [
    "#all images to lbp look 64x64  different range 3\n",
    "newImageSize2 = imageToLBP(imageLBPSize,2)"
   ]
  },
  {
   "cell_type": "markdown",
   "metadata": {},
   "source": [
    "#### WITHOUT HISTOGRAM\n",
    "<hr>"
   ]
  },
  {
   "cell_type": "code",
   "execution_count": 32,
   "metadata": {},
   "outputs": [],
   "source": [
    "#create list of all images saved as pixel by pixel\n",
    "def lbppixelbypixel(newImages):\n",
    "    images = []\n",
    "    for im in newImages:\n",
    "        images.append(np.array(list(im.getdata()))) \n",
    "    return images"
   ]
  },
  {
   "cell_type": "code",
   "execution_count": 33,
   "metadata": {},
   "outputs": [],
   "source": [
    "images1 = lbppixelbypixel(newImages)"
   ]
  },
  {
   "cell_type": "code",
   "execution_count": 34,
   "metadata": {},
   "outputs": [],
   "source": [
    "images2 = lbppixelbypixel(newImages2)"
   ]
  },
  {
   "cell_type": "code",
   "execution_count": 35,
   "metadata": {},
   "outputs": [],
   "source": [
    "#create list of all images saved as pixel by pixel 64x64\n",
    "imagesSize1 = lbppixelbypixel(newImageSize)"
   ]
  },
  {
   "cell_type": "code",
   "execution_count": 36,
   "metadata": {},
   "outputs": [],
   "source": [
    "#create list of all images saved as pixel by pixel 64x64\n",
    "imagesSize2 = lbppixelbypixel(newImageSize2)"
   ]
  },
  {
   "cell_type": "code",
   "execution_count": 37,
   "metadata": {},
   "outputs": [
    {
     "name": "stderr",
     "output_type": "stream",
     "text": [
      "100%|██████████████████████████████████████████████████████████████████████████████| 1000/1000 [01:13<00:00, 13.63it/s]\n"
     ]
    },
    {
     "data": {
      "text/plain": [
       "0.208"
      ]
     },
     "execution_count": 37,
     "metadata": {},
     "output_type": "execute_result"
    }
   ],
   "source": [
    "#accuracy EUCLID:calculate distance between each vector and save for each vector minimum distance WITHOUT HISTOGRAM\n",
    "euclidDist(images1)"
   ]
  },
  {
   "cell_type": "code",
   "execution_count": 38,
   "metadata": {},
   "outputs": [
    {
     "name": "stderr",
     "output_type": "stream",
     "text": [
      "100%|██████████████████████████████████████████████████████████████████████████████| 1000/1000 [01:10<00:00, 14.16it/s]\n"
     ]
    },
    {
     "data": {
      "text/plain": [
       "0.027"
      ]
     },
     "execution_count": 38,
     "metadata": {},
     "output_type": "execute_result"
    }
   ],
   "source": [
    "#accuracy EUCLID:calculate distance between each vector and save for each vector minimum distance WITHOUT HISTOGRAM range 2\n",
    "euclidDist(images2)"
   ]
  },
  {
   "cell_type": "code",
   "execution_count": 39,
   "metadata": {},
   "outputs": [
    {
     "name": "stderr",
     "output_type": "stream",
     "text": [
      "100%|██████████████████████████████████████████████████████████████████████████████| 1000/1000 [00:30<00:00, 32.62it/s]\n"
     ]
    },
    {
     "data": {
      "text/plain": [
       "0.277"
      ]
     },
     "execution_count": 39,
     "metadata": {},
     "output_type": "execute_result"
    }
   ],
   "source": [
    "#accuracy with euclid 64x64\n",
    "euclidDist(imagesSize1)"
   ]
  },
  {
   "cell_type": "code",
   "execution_count": 40,
   "metadata": {},
   "outputs": [
    {
     "name": "stderr",
     "output_type": "stream",
     "text": [
      "100%|██████████████████████████████████████████████████████████████████████████████| 1000/1000 [00:34<00:00, 29.03it/s]\n"
     ]
    },
    {
     "data": {
      "text/plain": [
       "0.048"
      ]
     },
     "execution_count": 40,
     "metadata": {},
     "output_type": "execute_result"
    }
   ],
   "source": [
    "#accuracy with euclid 64x64 range 2\n",
    "euclidDist(imagesSize2)"
   ]
  },
  {
   "cell_type": "code",
   "execution_count": 41,
   "metadata": {},
   "outputs": [
    {
     "name": "stderr",
     "output_type": "stream",
     "text": [
      "100%|██████████████████████████████████████████████████████████████████████████████| 1000/1000 [02:56<00:00,  5.67it/s]\n"
     ]
    },
    {
     "data": {
      "text/plain": [
       "0.229"
      ]
     },
     "execution_count": 41,
     "metadata": {},
     "output_type": "execute_result"
    }
   ],
   "source": [
    "#accuracy COSINE:calculate distance between each vector and save for each vector minimum distance WITHOUT HISTOGRAM\n",
    "cosineDist(images1)"
   ]
  },
  {
   "cell_type": "code",
   "execution_count": 42,
   "metadata": {},
   "outputs": [
    {
     "name": "stderr",
     "output_type": "stream",
     "text": [
      "100%|██████████████████████████████████████████████████████████████████████████████| 1000/1000 [03:07<00:00,  5.34it/s]\n"
     ]
    },
    {
     "data": {
      "text/plain": [
       "0.023"
      ]
     },
     "execution_count": 42,
     "metadata": {},
     "output_type": "execute_result"
    }
   ],
   "source": [
    "#accuracy COSINE:calculate distance between each vector and save for each vector minimum distance WITHOUT HISTOGRAM range 2\n",
    "cosineDist(images2)"
   ]
  },
  {
   "cell_type": "code",
   "execution_count": 43,
   "metadata": {},
   "outputs": [
    {
     "name": "stderr",
     "output_type": "stream",
     "text": [
      "100%|██████████████████████████████████████████████████████████████████████████████| 1000/1000 [01:31<00:00, 10.95it/s]\n"
     ]
    },
    {
     "data": {
      "text/plain": [
       "0.283"
      ]
     },
     "execution_count": 43,
     "metadata": {},
     "output_type": "execute_result"
    }
   ],
   "source": [
    "#accuracy COSINE:calculate distance between each vector and save for each vector minimum distance WITHOUT HISTOGRAM 64x64\n",
    "cosineDist(imagesSize1)"
   ]
  },
  {
   "cell_type": "code",
   "execution_count": 44,
   "metadata": {},
   "outputs": [
    {
     "name": "stderr",
     "output_type": "stream",
     "text": [
      "100%|██████████████████████████████████████████████████████████████████████████████| 1000/1000 [01:31<00:00, 10.98it/s]\n"
     ]
    },
    {
     "data": {
      "text/plain": [
       "0.04"
      ]
     },
     "execution_count": 44,
     "metadata": {},
     "output_type": "execute_result"
    }
   ],
   "source": [
    "#accuracy COSINE:calculate distance between each vector and save for each vector minimum distance WITHOUT HISTOGRAM 64x64 range 2\n",
    "cosineDist(imagesSize2)"
   ]
  },
  {
   "cell_type": "markdown",
   "metadata": {},
   "source": [
    "#### WITH HISTOGRAM\n",
    "<hr>"
   ]
  },
  {
   "cell_type": "code",
   "execution_count": 45,
   "metadata": {},
   "outputs": [],
   "source": [
    "#create dict of 256 fields of 0 and sum up repetition of each number\n",
    "#save dictionary for each image in qwerty \n",
    "def dictionary(newImages):\n",
    "    qwerty = []\n",
    "    for i in tqdm.tqdm(range(len(newImages))):\n",
    "        proba = newImages[i].copy()\n",
    "        values = {i:0 for i in range(256)}\n",
    "        for y in range(proba.size[1]):\n",
    "            for x in range(proba.size[0]):\n",
    "                values[proba.getpixel((x,y))]+=1\n",
    "        qwerty.append(list(values.values()))\n",
    "    return qwerty"
   ]
  },
  {
   "cell_type": "code",
   "execution_count": 46,
   "metadata": {},
   "outputs": [
    {
     "name": "stderr",
     "output_type": "stream",
     "text": [
      "100%|██████████████████████████████████████████████████████████████████████████████| 1000/1000 [00:18<00:00, 52.78it/s]\n"
     ]
    }
   ],
   "source": [
    "#dictionary of values 128x128\n",
    "qwerty = dictionary(newImages)"
   ]
  },
  {
   "cell_type": "code",
   "execution_count": 47,
   "metadata": {},
   "outputs": [
    {
     "name": "stderr",
     "output_type": "stream",
     "text": [
      "100%|██████████████████████████████████████████████████████████████████████████████| 1000/1000 [00:19<00:00, 50.46it/s]\n"
     ]
    }
   ],
   "source": [
    "#dictionary of values 128x128 rang e2\n",
    "qwerty2 = dictionary(newImages2)"
   ]
  },
  {
   "cell_type": "code",
   "execution_count": 48,
   "metadata": {},
   "outputs": [
    {
     "name": "stderr",
     "output_type": "stream",
     "text": [
      "100%|█████████████████████████████████████████████████████████████████████████████| 1000/1000 [00:04<00:00, 212.09it/s]\n"
     ]
    }
   ],
   "source": [
    "#dictionary of values 64x64\n",
    "qwertySize = dictionary(newImageSize)"
   ]
  },
  {
   "cell_type": "code",
   "execution_count": 49,
   "metadata": {},
   "outputs": [
    {
     "name": "stderr",
     "output_type": "stream",
     "text": [
      "100%|█████████████████████████████████████████████████████████████████████████████| 1000/1000 [00:04<00:00, 203.38it/s]\n"
     ]
    }
   ],
   "source": [
    "#dictionary of values 64x64 range 2\n",
    "qwertySize2 = dictionary(newImageSize2)"
   ]
  },
  {
   "cell_type": "code",
   "execution_count": 50,
   "metadata": {},
   "outputs": [],
   "source": [
    "# accuracy EUCLIDIAN: distance between HISTOGRAMS \n",
    "def euclidDistHist(qwerty,images1):\n",
    "    minDist1 = []\n",
    "    for i in tqdm.tqdm(range(len(qwerty))):\n",
    "        arr = []\n",
    "        for j in range(len(qwerty)):\n",
    "            if i!=j:\n",
    "                arr.append((i,j,euclidian(qwerty[i],qwerty[j])+euclidian(images1[i],images1[j])))\n",
    "        minDist1.append(sorted(arr, key=lambda x: x[2])[0])\n",
    "        \n",
    "    return sum([imagePaths[minDist1[i][0]].split(\"/\")[-2] == imagePaths[minDist1[i][1]].split(\"/\")[-2] for i in range(len(minDist1))])/len(minDist1)"
   ]
  },
  {
   "cell_type": "code",
   "execution_count": 51,
   "metadata": {},
   "outputs": [
    {
     "name": "stderr",
     "output_type": "stream",
     "text": [
      "100%|██████████████████████████████████████████████████████████████████████████████| 1000/1000 [02:19<00:00,  7.18it/s]\n"
     ]
    },
    {
     "data": {
      "text/plain": [
       "0.248"
      ]
     },
     "execution_count": 51,
     "metadata": {},
     "output_type": "execute_result"
    }
   ],
   "source": [
    "euclidDistHist(qwerty,images1)"
   ]
  },
  {
   "cell_type": "code",
   "execution_count": 52,
   "metadata": {},
   "outputs": [
    {
     "name": "stderr",
     "output_type": "stream",
     "text": [
      "100%|██████████████████████████████████████████████████████████████████████████████| 1000/1000 [02:15<00:00,  7.37it/s]\n"
     ]
    },
    {
     "data": {
      "text/plain": [
       "0.035"
      ]
     },
     "execution_count": 52,
     "metadata": {},
     "output_type": "execute_result"
    }
   ],
   "source": [
    "euclidDistHist(qwerty2,images2)"
   ]
  },
  {
   "cell_type": "code",
   "execution_count": 53,
   "metadata": {},
   "outputs": [
    {
     "name": "stderr",
     "output_type": "stream",
     "text": [
      "100%|██████████████████████████████████████████████████████████████████████████████| 1000/1000 [01:52<00:00,  8.89it/s]\n"
     ]
    },
    {
     "data": {
      "text/plain": [
       "0.306"
      ]
     },
     "execution_count": 53,
     "metadata": {},
     "output_type": "execute_result"
    }
   ],
   "source": [
    "euclidDistHist(qwertySize,imagesSize1)"
   ]
  },
  {
   "cell_type": "code",
   "execution_count": 54,
   "metadata": {},
   "outputs": [
    {
     "name": "stderr",
     "output_type": "stream",
     "text": [
      "100%|██████████████████████████████████████████████████████████████████████████████| 1000/1000 [01:45<00:00,  9.46it/s]\n"
     ]
    },
    {
     "data": {
      "text/plain": [
       "0.073"
      ]
     },
     "execution_count": 54,
     "metadata": {},
     "output_type": "execute_result"
    }
   ],
   "source": [
    "euclidDistHist(qwertySize2,imagesSize2)"
   ]
  },
  {
   "cell_type": "code",
   "execution_count": 55,
   "metadata": {},
   "outputs": [],
   "source": [
    "# accuracy COSINE: distance between HISTOGRAMS \n",
    "def cosineDistHist(qwerty,images1):\n",
    "    minDist1 = []\n",
    "    for i in tqdm.tqdm(range(len(qwerty))):\n",
    "        arr = []\n",
    "        for j in range(len(qwerty)):\n",
    "            if i!=j:\n",
    "                arr.append((i,j,cosine(qwerty[i],qwerty[j])+cosine(images1[i],images1[j])))\n",
    "        minDist1.append(sorted(arr, key=lambda x: x[2])[0])\n",
    "        \n",
    "    return sum([imagePaths[minDist1[i][0]].split(\"/\")[-2] == imagePaths[minDist1[i][1]].split(\"/\")[-2] for i in range(len(minDist1))])/len(minDist1)"
   ]
  },
  {
   "cell_type": "code",
   "execution_count": 56,
   "metadata": {},
   "outputs": [
    {
     "name": "stderr",
     "output_type": "stream",
     "text": [
      "100%|██████████████████████████████████████████████████████████████████████████████| 1000/1000 [05:48<00:00,  2.87it/s]\n"
     ]
    },
    {
     "data": {
      "text/plain": [
       "0.228"
      ]
     },
     "execution_count": 56,
     "metadata": {},
     "output_type": "execute_result"
    }
   ],
   "source": [
    "cosineDistHist(qwerty,images1)"
   ]
  },
  {
   "cell_type": "code",
   "execution_count": 57,
   "metadata": {},
   "outputs": [
    {
     "name": "stderr",
     "output_type": "stream",
     "text": [
      "100%|██████████████████████████████████████████████████████████████████████████████| 1000/1000 [05:14<00:00,  3.18it/s]\n"
     ]
    },
    {
     "data": {
      "text/plain": [
       "0.024"
      ]
     },
     "execution_count": 57,
     "metadata": {},
     "output_type": "execute_result"
    }
   ],
   "source": [
    "cosineDistHist(qwerty2,images2)"
   ]
  },
  {
   "cell_type": "code",
   "execution_count": 58,
   "metadata": {},
   "outputs": [
    {
     "name": "stderr",
     "output_type": "stream",
     "text": [
      "100%|██████████████████████████████████████████████████████████████████████████████| 1000/1000 [03:28<00:00,  4.79it/s]\n"
     ]
    },
    {
     "data": {
      "text/plain": [
       "0.262"
      ]
     },
     "execution_count": 58,
     "metadata": {},
     "output_type": "execute_result"
    }
   ],
   "source": [
    "cosineDistHist(qwertySize,imagesSize1)"
   ]
  },
  {
   "cell_type": "code",
   "execution_count": 59,
   "metadata": {},
   "outputs": [
    {
     "name": "stderr",
     "output_type": "stream",
     "text": [
      "100%|██████████████████████████████████████████████████████████████████████████████| 1000/1000 [03:15<00:00,  5.11it/s]\n"
     ]
    },
    {
     "data": {
      "text/plain": [
       "0.041"
      ]
     },
     "execution_count": 59,
     "metadata": {},
     "output_type": "execute_result"
    }
   ],
   "source": [
    "cosineDistHist(qwertySize2,imagesSize2)"
   ]
  },
  {
   "cell_type": "markdown",
   "metadata": {},
   "source": [
    "# openCV\n",
    "<hr>\n"
   ]
  },
  {
   "cell_type": "code",
   "execution_count": 60,
   "metadata": {},
   "outputs": [],
   "source": [
    "def opencv(path,size=(128,128)):\n",
    "    image = cv2.imread(path,cv2.IMREAD_GRAYSCALE)\n",
    "    return cv2.resize(image,size,cv2.INTER_LINEAR)"
   ]
  },
  {
   "cell_type": "code",
   "execution_count": 61,
   "metadata": {},
   "outputs": [],
   "source": [
    "def describe(image,method,p=8,r=1):\n",
    "    lbp = feature.local_binary_pattern(image, p, r, method=method)\n",
    "    (hist, _) = np.histogram(lbp.ravel(), bins=np.arange(0, 257), range=(0, 256))\n",
    "   \n",
    "    return lbp,hist"
   ]
  },
  {
   "cell_type": "code",
   "execution_count": 62,
   "metadata": {},
   "outputs": [],
   "source": [
    "def insertmetod(method,size=(128,128),p=8,r=1):\n",
    "    openlbp = []\n",
    "    openhist = []\n",
    "    for i in range(len(imagePaths)):\n",
    "        newOpen = opencv(imagePaths[i],size)\n",
    "        lbp,hist = describe(newOpen,method,p,r)\n",
    "        openlbp.append(lbp)\n",
    "        openhist.append(hist)\n",
    "    return openlbp,openhist"
   ]
  },
  {
   "cell_type": "code",
   "execution_count": 63,
   "metadata": {},
   "outputs": [],
   "source": [
    "opendefault, opendefaulthist = insertmetod('default')"
   ]
  },
  {
   "cell_type": "code",
   "execution_count": 64,
   "metadata": {},
   "outputs": [],
   "source": [
    "opendefault2, opendefaulthist2 = insertmetod('default',(128,128),16,2)"
   ]
  },
  {
   "cell_type": "code",
   "execution_count": 65,
   "metadata": {},
   "outputs": [],
   "source": [
    "openuniform,openuniformhist = insertmetod('uniform')"
   ]
  },
  {
   "cell_type": "code",
   "execution_count": 66,
   "metadata": {},
   "outputs": [],
   "source": [
    "openuniform2,openuniformhist2 = insertmetod('uniform',(128,128),16,2)"
   ]
  },
  {
   "cell_type": "code",
   "execution_count": 67,
   "metadata": {},
   "outputs": [],
   "source": [
    "openror, openrorhist = insertmetod('ror')"
   ]
  },
  {
   "cell_type": "code",
   "execution_count": 68,
   "metadata": {},
   "outputs": [],
   "source": [
    "openror2, openrorhist2 = insertmetod('ror',(128,128),16,2)"
   ]
  },
  {
   "cell_type": "code",
   "execution_count": 69,
   "metadata": {},
   "outputs": [],
   "source": [
    "opendefaultSize, opendefaulthistSize = insertmetod('default',(64,64))"
   ]
  },
  {
   "cell_type": "code",
   "execution_count": 70,
   "metadata": {},
   "outputs": [],
   "source": [
    "opendefaultSize2, opendefaulthistSize2 = insertmetod('default',(64,64),16,2)"
   ]
  },
  {
   "cell_type": "code",
   "execution_count": 71,
   "metadata": {},
   "outputs": [],
   "source": [
    "openuniformSize,openuniformhistSize = insertmetod('uniform',(64,64),16,2)"
   ]
  },
  {
   "cell_type": "code",
   "execution_count": 72,
   "metadata": {},
   "outputs": [],
   "source": [
    "openuniformSize2,openuniformhistSize2 = insertmetod('uniform',(64,64),16,2)"
   ]
  },
  {
   "cell_type": "code",
   "execution_count": 73,
   "metadata": {},
   "outputs": [],
   "source": [
    "openrorSize, openrorhistSize = insertmetod('ror',(64,64))"
   ]
  },
  {
   "cell_type": "code",
   "execution_count": 74,
   "metadata": {},
   "outputs": [],
   "source": [
    "openrorSize2, openrorhistSize2 = insertmetod('ror',(64,64),16,2)"
   ]
  },
  {
   "cell_type": "code",
   "execution_count": 75,
   "metadata": {},
   "outputs": [],
   "source": [
    "#EUCLID distance no hist\n",
    "def distance(imagePaths,openlbp):\n",
    "    minDistopen = []\n",
    "    for i in tqdm.tqdm(range(len(openlbp))):\n",
    "        arr = []\n",
    "        for j in range(len(openlbp)):\n",
    "            if i!=j:\n",
    "                arr.append((i,j,np.linalg.norm(openlbp[i]-openlbp[j])))\n",
    "        minDistopen.append(sorted(arr, key=lambda x: x[2])[0])\n",
    "    #accuracy with euclid\n",
    "    return sum([imagePaths[minDistopen[i][0]].split(\"/\")[-2] == imagePaths[minDistopen[i][1]].split(\"/\")[-2] for i in range(len(minDistopen))])/len(minDistopen)"
   ]
  },
  {
   "cell_type": "code",
   "execution_count": 76,
   "metadata": {},
   "outputs": [
    {
     "name": "stderr",
     "output_type": "stream",
     "text": [
      "100%|██████████████████████████████████████████████████████████████████████████████| 1000/1000 [00:34<00:00, 29.37it/s]\n"
     ]
    },
    {
     "data": {
      "text/plain": [
       "0.223"
      ]
     },
     "execution_count": 76,
     "metadata": {},
     "output_type": "execute_result"
    }
   ],
   "source": [
    "distance(imagePaths,opendefault)"
   ]
  },
  {
   "cell_type": "code",
   "execution_count": 77,
   "metadata": {},
   "outputs": [
    {
     "name": "stderr",
     "output_type": "stream",
     "text": [
      "100%|██████████████████████████████████████████████████████████████████████████████| 1000/1000 [00:35<00:00, 27.87it/s]\n"
     ]
    },
    {
     "data": {
      "text/plain": [
       "0.277"
      ]
     },
     "execution_count": 77,
     "metadata": {},
     "output_type": "execute_result"
    }
   ],
   "source": [
    "distance(imagePaths,opendefault2)"
   ]
  },
  {
   "cell_type": "code",
   "execution_count": 78,
   "metadata": {},
   "outputs": [
    {
     "name": "stderr",
     "output_type": "stream",
     "text": [
      "100%|██████████████████████████████████████████████████████████████████████████████| 1000/1000 [00:41<00:00, 24.16it/s]\n"
     ]
    },
    {
     "data": {
      "text/plain": [
       "0.014"
      ]
     },
     "execution_count": 78,
     "metadata": {},
     "output_type": "execute_result"
    }
   ],
   "source": [
    "distance(imagePaths,openuniform)"
   ]
  },
  {
   "cell_type": "code",
   "execution_count": 79,
   "metadata": {},
   "outputs": [
    {
     "name": "stderr",
     "output_type": "stream",
     "text": [
      "100%|██████████████████████████████████████████████████████████████████████████████| 1000/1000 [00:42<00:00, 23.56it/s]\n"
     ]
    },
    {
     "data": {
      "text/plain": [
       "0.014"
      ]
     },
     "execution_count": 79,
     "metadata": {},
     "output_type": "execute_result"
    }
   ],
   "source": [
    "distance(imagePaths,openuniform2)"
   ]
  },
  {
   "cell_type": "code",
   "execution_count": 80,
   "metadata": {},
   "outputs": [
    {
     "name": "stderr",
     "output_type": "stream",
     "text": [
      "100%|██████████████████████████████████████████████████████████████████████████████| 1000/1000 [00:39<00:00, 25.12it/s]\n"
     ]
    },
    {
     "data": {
      "text/plain": [
       "0.014"
      ]
     },
     "execution_count": 80,
     "metadata": {},
     "output_type": "execute_result"
    }
   ],
   "source": [
    "distance(imagePaths,openror)"
   ]
  },
  {
   "cell_type": "code",
   "execution_count": 81,
   "metadata": {},
   "outputs": [
    {
     "name": "stderr",
     "output_type": "stream",
     "text": [
      "100%|██████████████████████████████████████████████████████████████████████████████| 1000/1000 [00:39<00:00, 25.59it/s]\n"
     ]
    },
    {
     "data": {
      "text/plain": [
       "0.007"
      ]
     },
     "execution_count": 81,
     "metadata": {},
     "output_type": "execute_result"
    }
   ],
   "source": [
    "distance(imagePaths,openror2)"
   ]
  },
  {
   "cell_type": "code",
   "execution_count": 82,
   "metadata": {},
   "outputs": [
    {
     "name": "stderr",
     "output_type": "stream",
     "text": [
      "100%|██████████████████████████████████████████████████████████████████████████████| 1000/1000 [00:26<00:00, 37.65it/s]\n"
     ]
    },
    {
     "data": {
      "text/plain": [
       "0.243"
      ]
     },
     "execution_count": 82,
     "metadata": {},
     "output_type": "execute_result"
    }
   ],
   "source": [
    "distance(imagePaths,opendefaultSize)"
   ]
  },
  {
   "cell_type": "code",
   "execution_count": 83,
   "metadata": {},
   "outputs": [
    {
     "name": "stderr",
     "output_type": "stream",
     "text": [
      "100%|██████████████████████████████████████████████████████████████████████████████| 1000/1000 [00:27<00:00, 36.32it/s]\n"
     ]
    },
    {
     "data": {
      "text/plain": [
       "0.31"
      ]
     },
     "execution_count": 83,
     "metadata": {},
     "output_type": "execute_result"
    }
   ],
   "source": [
    "distance(imagePaths,opendefaultSize2)"
   ]
  },
  {
   "cell_type": "code",
   "execution_count": 84,
   "metadata": {},
   "outputs": [
    {
     "name": "stderr",
     "output_type": "stream",
     "text": [
      "100%|██████████████████████████████████████████████████████████████████████████████| 1000/1000 [00:30<00:00, 32.77it/s]\n"
     ]
    },
    {
     "data": {
      "text/plain": [
       "0.033"
      ]
     },
     "execution_count": 84,
     "metadata": {},
     "output_type": "execute_result"
    }
   ],
   "source": [
    "distance(imagePaths,openuniformSize)"
   ]
  },
  {
   "cell_type": "code",
   "execution_count": 85,
   "metadata": {},
   "outputs": [
    {
     "name": "stderr",
     "output_type": "stream",
     "text": [
      "100%|██████████████████████████████████████████████████████████████████████████████| 1000/1000 [00:28<00:00, 35.40it/s]\n"
     ]
    },
    {
     "data": {
      "text/plain": [
       "0.033"
      ]
     },
     "execution_count": 85,
     "metadata": {},
     "output_type": "execute_result"
    }
   ],
   "source": [
    "distance(imagePaths,openuniformSize2)"
   ]
  },
  {
   "cell_type": "code",
   "execution_count": 86,
   "metadata": {},
   "outputs": [
    {
     "name": "stderr",
     "output_type": "stream",
     "text": [
      "100%|██████████████████████████████████████████████████████████████████████████████| 1000/1000 [00:30<00:00, 32.52it/s]\n"
     ]
    },
    {
     "data": {
      "text/plain": [
       "0.015"
      ]
     },
     "execution_count": 86,
     "metadata": {},
     "output_type": "execute_result"
    }
   ],
   "source": [
    "distance(imagePaths,openrorSize)"
   ]
  },
  {
   "cell_type": "code",
   "execution_count": 87,
   "metadata": {},
   "outputs": [
    {
     "name": "stderr",
     "output_type": "stream",
     "text": [
      "100%|██████████████████████████████████████████████████████████████████████████████| 1000/1000 [00:29<00:00, 33.78it/s]\n"
     ]
    },
    {
     "data": {
      "text/plain": [
       "0.031"
      ]
     },
     "execution_count": 87,
     "metadata": {},
     "output_type": "execute_result"
    }
   ],
   "source": [
    "distance(imagePaths,openrorSize2)"
   ]
  },
  {
   "cell_type": "code",
   "execution_count": 96,
   "metadata": {},
   "outputs": [],
   "source": [
    "#COSINE distance no hist\n",
    "def distanceCosine(imagePaths,openlbp):\n",
    "    minDistopen = []\n",
    "    for i in tqdm.tqdm(range(len(openlbp))):\n",
    "        arr = []\n",
    "        for j in range(len(openlbp)):\n",
    "            if i!=j:\n",
    "                arr.append((i,j,cosine(np.array(openlbp[i]).ravel(),np.array(openlbp[j]).ravel())))\n",
    "        minDistopen.append(sorted(arr, key=lambda x: x[2])[0])\n",
    "    #accuracy with euclid\n",
    "    return sum([imagePaths[minDistopen[i][0]].split(\"/\")[-2] == imagePaths[minDistopen[i][1]].split(\"/\")[-2] for i in range(len(minDistopen))])/len(minDistopen)"
   ]
  },
  {
   "cell_type": "code",
   "execution_count": 97,
   "metadata": {},
   "outputs": [
    {
     "name": "stderr",
     "output_type": "stream",
     "text": [
      "100%|██████████████████████████████████████████████████████████████████████████████| 1000/1000 [02:39<00:00,  6.25it/s]\n"
     ]
    },
    {
     "data": {
      "text/plain": [
       "0.114"
      ]
     },
     "execution_count": 97,
     "metadata": {},
     "output_type": "execute_result"
    }
   ],
   "source": [
    "distanceCosine(imagePaths,opendefault)"
   ]
  },
  {
   "cell_type": "code",
   "execution_count": 98,
   "metadata": {},
   "outputs": [
    {
     "name": "stderr",
     "output_type": "stream",
     "text": [
      "100%|██████████████████████████████████████████████████████████████████████████████| 1000/1000 [02:49<00:00,  5.91it/s]\n"
     ]
    },
    {
     "data": {
      "text/plain": [
       "0.187"
      ]
     },
     "execution_count": 98,
     "metadata": {},
     "output_type": "execute_result"
    }
   ],
   "source": [
    "distanceCosine(imagePaths,opendefault2)"
   ]
  },
  {
   "cell_type": "code",
   "execution_count": 99,
   "metadata": {},
   "outputs": [
    {
     "name": "stderr",
     "output_type": "stream",
     "text": [
      "100%|██████████████████████████████████████████████████████████████████████████████| 1000/1000 [02:48<00:00,  5.94it/s]\n"
     ]
    },
    {
     "data": {
      "text/plain": [
       "0.012"
      ]
     },
     "execution_count": 99,
     "metadata": {},
     "output_type": "execute_result"
    }
   ],
   "source": [
    "distanceCosine(imagePaths,openuniform)"
   ]
  },
  {
   "cell_type": "code",
   "execution_count": 100,
   "metadata": {},
   "outputs": [
    {
     "name": "stderr",
     "output_type": "stream",
     "text": [
      "100%|██████████████████████████████████████████████████████████████████████████████| 1000/1000 [02:34<00:00,  6.46it/s]\n"
     ]
    },
    {
     "data": {
      "text/plain": [
       "0.013"
      ]
     },
     "execution_count": 100,
     "metadata": {},
     "output_type": "execute_result"
    }
   ],
   "source": [
    "distanceCosine(imagePaths,openuniform2)"
   ]
  },
  {
   "cell_type": "code",
   "execution_count": 101,
   "metadata": {},
   "outputs": [
    {
     "name": "stderr",
     "output_type": "stream",
     "text": [
      "100%|██████████████████████████████████████████████████████████████████████████████| 1000/1000 [02:43<00:00,  6.11it/s]\n"
     ]
    },
    {
     "data": {
      "text/plain": [
       "0.01"
      ]
     },
     "execution_count": 101,
     "metadata": {},
     "output_type": "execute_result"
    }
   ],
   "source": [
    "distanceCosine(imagePaths,openror)"
   ]
  },
  {
   "cell_type": "code",
   "execution_count": 102,
   "metadata": {},
   "outputs": [
    {
     "name": "stderr",
     "output_type": "stream",
     "text": [
      "100%|██████████████████████████████████████████████████████████████████████████████| 1000/1000 [02:34<00:00,  6.46it/s]\n"
     ]
    },
    {
     "data": {
      "text/plain": [
       "0.013"
      ]
     },
     "execution_count": 102,
     "metadata": {},
     "output_type": "execute_result"
    }
   ],
   "source": [
    "distanceCosine(imagePaths,openror2)"
   ]
  },
  {
   "cell_type": "code",
   "execution_count": 103,
   "metadata": {},
   "outputs": [
    {
     "name": "stderr",
     "output_type": "stream",
     "text": [
      "100%|██████████████████████████████████████████████████████████████████████████████| 1000/1000 [01:39<00:00, 10.04it/s]\n"
     ]
    },
    {
     "data": {
      "text/plain": [
       "0.166"
      ]
     },
     "execution_count": 103,
     "metadata": {},
     "output_type": "execute_result"
    }
   ],
   "source": [
    "distanceCosine(imagePaths,opendefaultSize)"
   ]
  },
  {
   "cell_type": "code",
   "execution_count": 104,
   "metadata": {},
   "outputs": [
    {
     "name": "stderr",
     "output_type": "stream",
     "text": [
      "100%|██████████████████████████████████████████████████████████████████████████████| 1000/1000 [01:30<00:00, 11.00it/s]\n"
     ]
    },
    {
     "data": {
      "text/plain": [
       "0.232"
      ]
     },
     "execution_count": 104,
     "metadata": {},
     "output_type": "execute_result"
    }
   ],
   "source": [
    "distanceCosine(imagePaths,opendefaultSize2)"
   ]
  },
  {
   "cell_type": "code",
   "execution_count": 105,
   "metadata": {},
   "outputs": [
    {
     "name": "stderr",
     "output_type": "stream",
     "text": [
      "100%|██████████████████████████████████████████████████████████████████████████████| 1000/1000 [01:27<00:00, 11.37it/s]\n"
     ]
    },
    {
     "data": {
      "text/plain": [
       "0.046"
      ]
     },
     "execution_count": 105,
     "metadata": {},
     "output_type": "execute_result"
    }
   ],
   "source": [
    "distanceCosine(imagePaths,openuniformSize)"
   ]
  },
  {
   "cell_type": "code",
   "execution_count": 106,
   "metadata": {},
   "outputs": [
    {
     "name": "stderr",
     "output_type": "stream",
     "text": [
      "100%|██████████████████████████████████████████████████████████████████████████████| 1000/1000 [01:20<00:00, 12.37it/s]\n"
     ]
    },
    {
     "data": {
      "text/plain": [
       "0.046"
      ]
     },
     "execution_count": 106,
     "metadata": {},
     "output_type": "execute_result"
    }
   ],
   "source": [
    "distanceCosine(imagePaths,openuniformSize2)"
   ]
  },
  {
   "cell_type": "code",
   "execution_count": 107,
   "metadata": {},
   "outputs": [
    {
     "name": "stderr",
     "output_type": "stream",
     "text": [
      "100%|██████████████████████████████████████████████████████████████████████████████| 1000/1000 [01:20<00:00, 12.37it/s]\n"
     ]
    },
    {
     "data": {
      "text/plain": [
       "0.043"
      ]
     },
     "execution_count": 107,
     "metadata": {},
     "output_type": "execute_result"
    }
   ],
   "source": [
    "distanceCosine(imagePaths,openrorSize)"
   ]
  },
  {
   "cell_type": "code",
   "execution_count": 108,
   "metadata": {},
   "outputs": [
    {
     "name": "stderr",
     "output_type": "stream",
     "text": [
      "100%|██████████████████████████████████████████████████████████████████████████████| 1000/1000 [01:35<00:00, 10.50it/s]\n"
     ]
    },
    {
     "data": {
      "text/plain": [
       "0.101"
      ]
     },
     "execution_count": 108,
     "metadata": {},
     "output_type": "execute_result"
    }
   ],
   "source": [
    "distanceCosine(imagePaths,openrorSize2)"
   ]
  },
  {
   "cell_type": "code",
   "execution_count": 109,
   "metadata": {},
   "outputs": [],
   "source": [
    "def distancehist(imagePaths,openlbp,openhist):\n",
    "    #EUCLIDIAN: distance between OPENCV DEFUALT HISTOGRAM\n",
    "    minDistopen1 = []\n",
    "    for i in tqdm.tqdm(range(len(openlbp))):\n",
    "        arr = []\n",
    "        for j in range(len(openlbp)):\n",
    "            if i!=j:\n",
    "                arr.append((i,j,np.linalg.norm(openlbp[i]-openlbp[j])+np.linalg.norm(openhist[i]-openhist[j])))\n",
    "        minDistopen1.append(sorted(arr, key=lambda x: x[2])[0])\n",
    "    #accuracy with euclid\n",
    "    return sum([imagePaths[minDistopen1[i][0]].split(\"/\")[-2] == imagePaths[minDistopen1[i][1]].split(\"/\")[-2] for i in range(len(minDistopen1))])/len(minDistopen1)"
   ]
  },
  {
   "cell_type": "code",
   "execution_count": 110,
   "metadata": {},
   "outputs": [
    {
     "name": "stderr",
     "output_type": "stream",
     "text": [
      "100%|██████████████████████████████████████████████████████████████████████████████| 1000/1000 [00:53<00:00, 18.81it/s]\n"
     ]
    },
    {
     "data": {
      "text/plain": [
       "0.261"
      ]
     },
     "execution_count": 110,
     "metadata": {},
     "output_type": "execute_result"
    }
   ],
   "source": [
    "distancehist(imagePaths,opendefault,opendefaulthist)"
   ]
  },
  {
   "cell_type": "code",
   "execution_count": 111,
   "metadata": {},
   "outputs": [
    {
     "name": "stderr",
     "output_type": "stream",
     "text": [
      "100%|██████████████████████████████████████████████████████████████████████████████| 1000/1000 [00:52<00:00, 19.06it/s]\n"
     ]
    },
    {
     "data": {
      "text/plain": [
       "0.277"
      ]
     },
     "execution_count": 111,
     "metadata": {},
     "output_type": "execute_result"
    }
   ],
   "source": [
    "distancehist(imagePaths,opendefault2,opendefaulthist2)"
   ]
  },
  {
   "cell_type": "code",
   "execution_count": 112,
   "metadata": {},
   "outputs": [
    {
     "name": "stderr",
     "output_type": "stream",
     "text": [
      "100%|██████████████████████████████████████████████████████████████████████████████| 1000/1000 [00:55<00:00, 18.01it/s]\n"
     ]
    },
    {
     "data": {
      "text/plain": [
       "0.016"
      ]
     },
     "execution_count": 112,
     "metadata": {},
     "output_type": "execute_result"
    }
   ],
   "source": [
    "distancehist(imagePaths,openuniform, openuniformhist)"
   ]
  },
  {
   "cell_type": "code",
   "execution_count": 113,
   "metadata": {},
   "outputs": [
    {
     "name": "stderr",
     "output_type": "stream",
     "text": [
      "100%|██████████████████████████████████████████████████████████████████████████████| 1000/1000 [01:14<00:00, 13.36it/s]\n"
     ]
    },
    {
     "data": {
      "text/plain": [
       "0.016"
      ]
     },
     "execution_count": 113,
     "metadata": {},
     "output_type": "execute_result"
    }
   ],
   "source": [
    "distancehist(imagePaths,openuniform2, openuniformhist2)"
   ]
  },
  {
   "cell_type": "code",
   "execution_count": 114,
   "metadata": {},
   "outputs": [
    {
     "name": "stderr",
     "output_type": "stream",
     "text": [
      "100%|██████████████████████████████████████████████████████████████████████████████| 1000/1000 [01:10<00:00, 14.14it/s]\n"
     ]
    },
    {
     "data": {
      "text/plain": [
       "0.031"
      ]
     },
     "execution_count": 114,
     "metadata": {},
     "output_type": "execute_result"
    }
   ],
   "source": [
    "distancehist(imagePaths,openror,openrorhist)"
   ]
  },
  {
   "cell_type": "code",
   "execution_count": 115,
   "metadata": {},
   "outputs": [
    {
     "name": "stderr",
     "output_type": "stream",
     "text": [
      "100%|██████████████████████████████████████████████████████████████████████████████| 1000/1000 [00:54<00:00, 18.32it/s]\n"
     ]
    },
    {
     "data": {
      "text/plain": [
       "0.007"
      ]
     },
     "execution_count": 115,
     "metadata": {},
     "output_type": "execute_result"
    }
   ],
   "source": [
    "distancehist(imagePaths,openror2,openrorhist2)"
   ]
  },
  {
   "cell_type": "code",
   "execution_count": 116,
   "metadata": {},
   "outputs": [
    {
     "name": "stderr",
     "output_type": "stream",
     "text": [
      "100%|██████████████████████████████████████████████████████████████████████████████| 1000/1000 [00:37<00:00, 26.69it/s]\n"
     ]
    },
    {
     "data": {
      "text/plain": [
       "0.293"
      ]
     },
     "execution_count": 116,
     "metadata": {},
     "output_type": "execute_result"
    }
   ],
   "source": [
    "distancehist(imagePaths,opendefaultSize,opendefaulthistSize)"
   ]
  },
  {
   "cell_type": "code",
   "execution_count": 117,
   "metadata": {},
   "outputs": [
    {
     "name": "stderr",
     "output_type": "stream",
     "text": [
      "100%|██████████████████████████████████████████████████████████████████████████████| 1000/1000 [00:36<00:00, 27.34it/s]\n"
     ]
    },
    {
     "data": {
      "text/plain": [
       "0.31"
      ]
     },
     "execution_count": 117,
     "metadata": {},
     "output_type": "execute_result"
    }
   ],
   "source": [
    "distancehist(imagePaths,opendefaultSize2,opendefaulthistSize2)"
   ]
  },
  {
   "cell_type": "code",
   "execution_count": 118,
   "metadata": {},
   "outputs": [
    {
     "name": "stderr",
     "output_type": "stream",
     "text": [
      "100%|██████████████████████████████████████████████████████████████████████████████| 1000/1000 [00:33<00:00, 29.43it/s]\n"
     ]
    },
    {
     "data": {
      "text/plain": [
       "0.039"
      ]
     },
     "execution_count": 118,
     "metadata": {},
     "output_type": "execute_result"
    }
   ],
   "source": [
    "distancehist(imagePaths,openuniformSize, openuniformhistSize)"
   ]
  },
  {
   "cell_type": "code",
   "execution_count": 119,
   "metadata": {},
   "outputs": [
    {
     "name": "stderr",
     "output_type": "stream",
     "text": [
      "100%|██████████████████████████████████████████████████████████████████████████████| 1000/1000 [00:39<00:00, 25.45it/s]\n"
     ]
    },
    {
     "data": {
      "text/plain": [
       "0.039"
      ]
     },
     "execution_count": 119,
     "metadata": {},
     "output_type": "execute_result"
    }
   ],
   "source": [
    "distancehist(imagePaths,openuniformSize2, openuniformhistSize2)"
   ]
  },
  {
   "cell_type": "code",
   "execution_count": 120,
   "metadata": {},
   "outputs": [
    {
     "name": "stderr",
     "output_type": "stream",
     "text": [
      "100%|██████████████████████████████████████████████████████████████████████████████| 1000/1000 [00:37<00:00, 26.49it/s]\n"
     ]
    },
    {
     "data": {
      "text/plain": [
       "0.053"
      ]
     },
     "execution_count": 120,
     "metadata": {},
     "output_type": "execute_result"
    }
   ],
   "source": [
    "distancehist(imagePaths,openrorSize,openrorhistSize)"
   ]
  },
  {
   "cell_type": "code",
   "execution_count": 121,
   "metadata": {},
   "outputs": [
    {
     "name": "stderr",
     "output_type": "stream",
     "text": [
      "100%|██████████████████████████████████████████████████████████████████████████████| 1000/1000 [00:36<00:00, 27.60it/s]\n"
     ]
    },
    {
     "data": {
      "text/plain": [
       "0.032"
      ]
     },
     "execution_count": 121,
     "metadata": {},
     "output_type": "execute_result"
    }
   ],
   "source": [
    "distancehist(imagePaths,openrorSize2,openrorhistSize2)"
   ]
  },
  {
   "cell_type": "code",
   "execution_count": 123,
   "metadata": {},
   "outputs": [],
   "source": [
    "def distancehistCosine(imagePaths,openlbp,openhist):\n",
    "    #COSINE: distance between OPENCV DEFUALT HISTOGRAM\n",
    "    minDistopen1 = []\n",
    "    for i in tqdm.tqdm(range(len(openlbp))):\n",
    "        arr = []\n",
    "        for j in range(len(openlbp)):\n",
    "            if i!=j:\n",
    "#                 arr.append((i,j,cosine(openlbp[i]-openlbp[j])+ cosine(openhist[i]-openhist[j])))\n",
    "                arr.append((i,j,cosine(np.array(openlbp[i]).ravel(),np.array(openlbp[j]).ravel()) + cosine(np.array(openhist[i]).ravel(),np.array(openhist[j]).ravel())))\n",
    "        minDistopen1.append(sorted(arr, key=lambda x: x[2])[0])\n",
    "    #accuracy with euclid\n",
    "    return sum([imagePaths[minDistopen1[i][0]].split(\"/\")[-2] == imagePaths[minDistopen1[i][1]].split(\"/\")[-2] for i in range(len(minDistopen1))])/len(minDistopen1)"
   ]
  },
  {
   "cell_type": "code",
   "execution_count": 124,
   "metadata": {},
   "outputs": [
    {
     "name": "stderr",
     "output_type": "stream",
     "text": [
      "100%|██████████████████████████████████████████████████████████████████████████████| 1000/1000 [03:25<00:00,  4.86it/s]\n"
     ]
    },
    {
     "data": {
      "text/plain": [
       "0.182"
      ]
     },
     "execution_count": 124,
     "metadata": {},
     "output_type": "execute_result"
    }
   ],
   "source": [
    "distancehistCosine(imagePaths,opendefault,opendefaulthist)"
   ]
  },
  {
   "cell_type": "code",
   "execution_count": 125,
   "metadata": {},
   "outputs": [
    {
     "name": "stderr",
     "output_type": "stream",
     "text": [
      "100%|██████████████████████████████████████████████████████████████████████████████| 1000/1000 [03:48<00:00,  4.38it/s]\n"
     ]
    },
    {
     "data": {
      "text/plain": [
       "0.16"
      ]
     },
     "execution_count": 125,
     "metadata": {},
     "output_type": "execute_result"
    }
   ],
   "source": [
    "distancehistCosine(imagePaths,opendefault2,opendefaulthist2)"
   ]
  },
  {
   "cell_type": "code",
   "execution_count": 126,
   "metadata": {},
   "outputs": [
    {
     "name": "stderr",
     "output_type": "stream",
     "text": [
      "100%|██████████████████████████████████████████████████████████████████████████████| 1000/1000 [04:15<00:00,  3.91it/s]\n"
     ]
    },
    {
     "data": {
      "text/plain": [
       "0.048"
      ]
     },
     "execution_count": 126,
     "metadata": {},
     "output_type": "execute_result"
    }
   ],
   "source": [
    "distancehistCosine(imagePaths,openuniform, openuniformhist)"
   ]
  },
  {
   "cell_type": "code",
   "execution_count": 127,
   "metadata": {},
   "outputs": [
    {
     "name": "stderr",
     "output_type": "stream",
     "text": [
      "100%|██████████████████████████████████████████████████████████████████████████████| 1000/1000 [03:49<00:00,  4.36it/s]\n"
     ]
    },
    {
     "data": {
      "text/plain": [
       "0.051"
      ]
     },
     "execution_count": 127,
     "metadata": {},
     "output_type": "execute_result"
    }
   ],
   "source": [
    "distancehistCosine(imagePaths,openuniform2, openuniformhist2)"
   ]
  },
  {
   "cell_type": "code",
   "execution_count": 128,
   "metadata": {},
   "outputs": [
    {
     "name": "stderr",
     "output_type": "stream",
     "text": [
      "100%|██████████████████████████████████████████████████████████████████████████████| 1000/1000 [03:40<00:00,  4.54it/s]\n"
     ]
    },
    {
     "data": {
      "text/plain": [
       "0.051"
      ]
     },
     "execution_count": 128,
     "metadata": {},
     "output_type": "execute_result"
    }
   ],
   "source": [
    "distancehistCosine(imagePaths,openror,openrorhist)"
   ]
  },
  {
   "cell_type": "code",
   "execution_count": 129,
   "metadata": {},
   "outputs": [
    {
     "name": "stderr",
     "output_type": "stream",
     "text": [
      "100%|██████████████████████████████████████████████████████████████████████████████| 1000/1000 [03:50<00:00,  4.35it/s]\n"
     ]
    },
    {
     "data": {
      "text/plain": [
       "0.021"
      ]
     },
     "execution_count": 129,
     "metadata": {},
     "output_type": "execute_result"
    }
   ],
   "source": [
    "distancehistCosine(imagePaths,openror2,openrorhist2)"
   ]
  },
  {
   "cell_type": "code",
   "execution_count": 130,
   "metadata": {},
   "outputs": [
    {
     "name": "stderr",
     "output_type": "stream",
     "text": [
      "100%|██████████████████████████████████████████████████████████████████████████████| 1000/1000 [02:32<00:00,  6.58it/s]\n"
     ]
    },
    {
     "data": {
      "text/plain": [
       "0.215"
      ]
     },
     "execution_count": 130,
     "metadata": {},
     "output_type": "execute_result"
    }
   ],
   "source": [
    "distancehistCosine(imagePaths,opendefaultSize,opendefaulthistSize)"
   ]
  },
  {
   "cell_type": "code",
   "execution_count": 131,
   "metadata": {},
   "outputs": [
    {
     "name": "stderr",
     "output_type": "stream",
     "text": [
      "100%|██████████████████████████████████████████████████████████████████████████████| 1000/1000 [03:06<00:00,  5.35it/s]\n"
     ]
    },
    {
     "data": {
      "text/plain": [
       "0.203"
      ]
     },
     "execution_count": 131,
     "metadata": {},
     "output_type": "execute_result"
    }
   ],
   "source": [
    "distancehistCosine(imagePaths,opendefaultSize2,opendefaulthistSize2)"
   ]
  },
  {
   "cell_type": "code",
   "execution_count": 132,
   "metadata": {},
   "outputs": [
    {
     "name": "stderr",
     "output_type": "stream",
     "text": [
      "100%|██████████████████████████████████████████████████████████████████████████████| 1000/1000 [03:02<00:00,  5.48it/s]\n"
     ]
    },
    {
     "data": {
      "text/plain": [
       "0.116"
      ]
     },
     "execution_count": 132,
     "metadata": {},
     "output_type": "execute_result"
    }
   ],
   "source": [
    "distancehistCosine(imagePaths,openuniformSize, openuniformhistSize)"
   ]
  },
  {
   "cell_type": "code",
   "execution_count": 133,
   "metadata": {},
   "outputs": [
    {
     "name": "stderr",
     "output_type": "stream",
     "text": [
      "100%|██████████████████████████████████████████████████████████████████████████████| 1000/1000 [02:31<00:00,  6.60it/s]\n"
     ]
    },
    {
     "data": {
      "text/plain": [
       "0.116"
      ]
     },
     "execution_count": 133,
     "metadata": {},
     "output_type": "execute_result"
    }
   ],
   "source": [
    "distancehistCosine(imagePaths,openuniformSize2, openuniformhistSize2)"
   ]
  },
  {
   "cell_type": "code",
   "execution_count": 134,
   "metadata": {},
   "outputs": [
    {
     "name": "stderr",
     "output_type": "stream",
     "text": [
      "100%|██████████████████████████████████████████████████████████████████████████████| 1000/1000 [02:23<00:00,  6.96it/s]\n"
     ]
    },
    {
     "data": {
      "text/plain": [
       "0.084"
      ]
     },
     "execution_count": 134,
     "metadata": {},
     "output_type": "execute_result"
    }
   ],
   "source": [
    "distancehistCosine(imagePaths,openrorSize,openrorhistSize)"
   ]
  },
  {
   "cell_type": "code",
   "execution_count": 135,
   "metadata": {},
   "outputs": [
    {
     "name": "stderr",
     "output_type": "stream",
     "text": [
      "100%|██████████████████████████████████████████████████████████████████████████████| 1000/1000 [02:22<00:00,  7.00it/s]\n"
     ]
    },
    {
     "data": {
      "text/plain": [
       "0.103"
      ]
     },
     "execution_count": 135,
     "metadata": {},
     "output_type": "execute_result"
    }
   ],
   "source": [
    "distancehistCosine(imagePaths,openrorSize2,openrorhistSize2)"
   ]
  },
  {
   "cell_type": "code",
   "execution_count": null,
   "metadata": {},
   "outputs": [],
   "source": []
  },
  {
   "cell_type": "code",
   "execution_count": null,
   "metadata": {},
   "outputs": [],
   "source": []
  }
 ],
 "metadata": {
  "kernelspec": {
   "display_name": "Python 3 (ipykernel)",
   "language": "python",
   "name": "python3"
  },
  "language_info": {
   "codemirror_mode": {
    "name": "ipython",
    "version": 3
   },
   "file_extension": ".py",
   "mimetype": "text/x-python",
   "name": "python",
   "nbconvert_exporter": "python",
   "pygments_lexer": "ipython3",
   "version": "3.9.7"
  }
 },
 "nbformat": 4,
 "nbformat_minor": 4
}
