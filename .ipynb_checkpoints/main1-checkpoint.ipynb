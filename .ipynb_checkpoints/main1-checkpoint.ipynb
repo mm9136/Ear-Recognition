{
 "cells": [
  {
   "cell_type": "code",
   "execution_count": 1,
   "metadata": {},
   "outputs": [],
   "source": [
    "import os\n",
    "from PIL import Image\n",
    "import numpy as np\n",
    "from scipy.spatial import distance\n",
    "import math\n",
    "import tqdm\n",
    "\n",
    "from scipy import spatial\n",
    "import cv2\n",
    "from skimage import feature"
   ]
  },
  {
   "cell_type": "markdown",
   "metadata": {},
   "source": [
    "# PIXEL BY PIXEL\n",
    "<hr>"
   ]
  },
  {
   "cell_type": "code",
   "execution_count": 2,
   "metadata": {},
   "outputs": [],
   "source": [
    "#read all images\n",
    "def loadImages(path = 'awe/'):\n",
    "    subfolders = [ f.path + \"/\" for f in os.scandir(path) if f.is_dir() ]\n",
    "    return [ f.path for images in subfolders for f in os.scandir(images) if f.name[-3:] == 'png']\n",
    "\n",
    "#convert image to greyscale and resize it to 128,128 if the other size not is given as argument\n",
    "def convert(image,size=(128, 128)):\n",
    "    return Image.open(image).convert(\"L\").resize(size)"
   ]
  },
  {
   "cell_type": "code",
   "execution_count": 3,
   "metadata": {},
   "outputs": [],
   "source": [
    "#save all path images in one array\n",
    "imagePaths = loadImages()"
   ]
  },
  {
   "cell_type": "code",
   "execution_count": 4,
   "metadata": {},
   "outputs": [],
   "source": [
    "#get image as one vector\n",
    "def pixelByPixel(image):\n",
    "    im = convert(image)\n",
    "    return np.array(list(im.getdata()))"
   ]
  },
  {
   "cell_type": "code",
   "execution_count": 5,
   "metadata": {},
   "outputs": [],
   "source": [
    "#get image as one vector\n",
    "def pixelByPixelSize(image):\n",
    "    im = convert(image,(64,64))\n",
    "    return np.array(list(im.getdata()))"
   ]
  },
  {
   "cell_type": "code",
   "execution_count": 6,
   "metadata": {},
   "outputs": [],
   "source": [
    "#calculate distances between 2 vectors\n",
    "def euclidian(im1,im2):\n",
    "    return distance.euclidean(im1, im2)"
   ]
  },
  {
   "cell_type": "code",
   "execution_count": 7,
   "metadata": {},
   "outputs": [],
   "source": [
    "#calculate distances between 2 vectors\n",
    "def cosine(im1,im2):\n",
    "    return distance.cosine(im1, im2)"
   ]
  },
  {
   "cell_type": "code",
   "execution_count": 8,
   "metadata": {},
   "outputs": [],
   "source": [
    "#create list of all images saved as pixel by pixel\n",
    "images = []\n",
    "for i in loadImages():\n",
    "    images.append(pixelByPixel(i))"
   ]
  },
  {
   "cell_type": "code",
   "execution_count": 9,
   "metadata": {},
   "outputs": [],
   "source": [
    "#create list of all images saved as pixel by pixel 256x256\n",
    "imagesSize = []\n",
    "for i in loadImages():\n",
    "    imagesSize.append(pixelByPixelSize(i))"
   ]
  },
  {
   "cell_type": "code",
   "execution_count": 10,
   "metadata": {},
   "outputs": [],
   "source": [
    "#EUCLID:calculate distance between each vector and save for each vector minimum distance\n",
    "minDist = []\n",
    "for i in range(len(images)):\n",
    "    arr = []\n",
    "    for j in range(len(images)):\n",
    "        if i!=j:\n",
    "            arr.append((i,j,euclidian(images[i],images[j])))\n",
    "    minDist.append(sorted(arr, key=lambda x: x[2])[0])"
   ]
  },
  {
   "cell_type": "code",
   "execution_count": 11,
   "metadata": {},
   "outputs": [
    {
     "data": {
      "text/plain": [
       "0.127"
      ]
     },
     "execution_count": 11,
     "metadata": {},
     "output_type": "execute_result"
    }
   ],
   "source": [
    "#accuracy with euclid\n",
    "sum([imagePaths[minDist[i][0]].split(\"/\")[-2] == imagePaths[minDist[i][1]].split(\"/\")[-2] for i in range(len(minDist))])/len(minDist)"
   ]
  },
  {
   "cell_type": "code",
   "execution_count": 12,
   "metadata": {},
   "outputs": [],
   "source": [
    "#EUCLID:calculate distance between each vector and save for each vector minimum distance 256x256\n",
    "minDistSize = []\n",
    "for i in range(len(imagesSize)):\n",
    "    arr = []\n",
    "    for j in range(len(imagesSize)):\n",
    "        if i!=j:\n",
    "            arr.append((i,j,euclidian(imagesSize[i],imagesSize[j])))\n",
    "    minDistSize.append(sorted(arr, key=lambda x: x[2])[0])"
   ]
  },
  {
   "cell_type": "code",
   "execution_count": 13,
   "metadata": {},
   "outputs": [
    {
     "data": {
      "text/plain": [
       "0.125"
      ]
     },
     "execution_count": 13,
     "metadata": {},
     "output_type": "execute_result"
    }
   ],
   "source": [
    "#accuracy with euclid 256x256\n",
    "sum([imagePaths[minDistSize[i][0]].split(\"/\")[-2] == imagePaths[minDistSize[i][1]].split(\"/\")[-2] for i in range(len(minDistSize))])/len(minDistSize)"
   ]
  },
  {
   "cell_type": "code",
   "execution_count": 14,
   "metadata": {},
   "outputs": [],
   "source": [
    "#COSINE:calculate distance between each vector and save for each vector minimum distance\n",
    "minDistcosin = []\n",
    "for i in range(len(images)):\n",
    "    arr = []\n",
    "    for j in range(len(images)):\n",
    "        if i!=j:\n",
    "            arr.append((i,j,cosine(images[i],images[j])))\n",
    "    minDistcosin.append(sorted(arr, key=lambda x: x[2])[0])"
   ]
  },
  {
   "cell_type": "code",
   "execution_count": 15,
   "metadata": {},
   "outputs": [
    {
     "data": {
      "text/plain": [
       "0.169"
      ]
     },
     "execution_count": 15,
     "metadata": {},
     "output_type": "execute_result"
    }
   ],
   "source": [
    "#accuracy with cosine\n",
    "sum([imagePaths[minDistcosin[i][0]].split(\"/\")[-2] == imagePaths[minDistcosin[i][1]].split(\"/\")[-2] for i in range(len(minDistcosin))])/len(minDistcosin)"
   ]
  },
  {
   "cell_type": "code",
   "execution_count": 18,
   "metadata": {},
   "outputs": [],
   "source": [
    "#COSINE:calculate distance between each vector and save for each vector minimum distance 256x256\n",
    "minDistcosinSize = []\n",
    "for i in range(len(imagesSize)):\n",
    "    arr = []\n",
    "    for j in range(len(imagesSize)):\n",
    "        if i!=j:\n",
    "            arr.append((i,j,cosine(imagesSize[i],imagesSize[j])))\n",
    "    minDistcosinSize.append(sorted(arr, key=lambda x: x[2])[0])"
   ]
  },
  {
   "cell_type": "code",
   "execution_count": 19,
   "metadata": {},
   "outputs": [
    {
     "data": {
      "text/plain": [
       "0.172"
      ]
     },
     "execution_count": 19,
     "metadata": {},
     "output_type": "execute_result"
    }
   ],
   "source": [
    "#accuracy with cosine 256x256\n",
    "sum([imagePaths[minDistcosinSize[i][0]].split(\"/\")[-2] == imagePaths[minDistcosinSize[i][1]].split(\"/\")[-2] for i in range(len(minDistcosinSize))])/len(minDistcosinSize)"
   ]
  },
  {
   "cell_type": "markdown",
   "metadata": {},
   "source": [
    "# Local Binary Pattern\n",
    "<hr>"
   ]
  },
  {
   "cell_type": "code",
   "execution_count": 20,
   "metadata": {},
   "outputs": [],
   "source": [
    "#get all pictures as greyscale and size default 128x128\n",
    "imageLBP = []\n",
    "for path in imagePaths:\n",
    "    imageLBP.append(convert(path))"
   ]
  },
  {
   "cell_type": "code",
   "execution_count": 21,
   "metadata": {},
   "outputs": [],
   "source": [
    "#get all pictures as greyscale and size default 256x256\n",
    "imageLBPSize = []\n",
    "for path in imagePaths:\n",
    "    imageLBPSize.append(convert(path,(64,64)))"
   ]
  },
  {
   "cell_type": "code",
   "execution_count": 22,
   "metadata": {},
   "outputs": [],
   "source": [
    "# get matrix\n",
    "def matrix(image,currentPos,size=1):\n",
    "    region = []\n",
    "    for y in range(currentPos[1]-size,currentPos[1]+size+1):\n",
    "        if y < 0 or y >= image.size[1]:\n",
    "            row = [0 for _ in range(size * 2 + 1)]\n",
    "        else:\n",
    "            row = []\n",
    "            for x in range(currentPos[0]-size,currentPos[0]+size+1):\n",
    "                if x < 0 or x >= image.size[0]:\n",
    "                    row.append(0)\n",
    "                else:\n",
    "                    row.append(image.getpixel((x,y)))\n",
    "        region.append(row)\n",
    "    return region        "
   ]
  },
  {
   "cell_type": "code",
   "execution_count": null,
   "metadata": {},
   "outputs": [],
   "source": [
    "#DELETE - IKI\n",
    "# def matrix1(image,currentPos,size=3):\n",
    "#     x=currentPos[0]\n",
    "#     y=currentPos[1]\n",
    "#     region = []\n",
    "#     for y in range(y-int(size/2),y+int(size/2)+1):\n",
    "#         row = []\n",
    "#         for x in range(x-int(size/2),x+int(size/2)+1):\n",
    "#             if x < 0 or y < 0 or x >= image.size[0] or y >= image.size[1]:\n",
    "#                 row.append(0)\n",
    "#             else:\n",
    "#                 row.append(image.getpixel((x,y)))\n",
    "#         region.append(row)\n",
    "#     return region        "
   ]
  },
  {
   "cell_type": "code",
   "execution_count": 23,
   "metadata": {},
   "outputs": [],
   "source": [
    "# matrix(imageLBP[0],(0,0),1)"
   ]
  },
  {
   "cell_type": "code",
   "execution_count": 24,
   "metadata": {},
   "outputs": [],
   "source": [
    "#change values of matrix to 0 and 1\n",
    "def lbp(matrix):\n",
    "    binaryarr = []\n",
    "    centery,centerx = int(len(matrix) /2),int(len(matrix[0]) /2)\n",
    "    for j in range(len(matrix)):\n",
    "        row = []\n",
    "        for i in range(len(matrix[j])):\n",
    "            if (i,j) != (centerx,centery):\n",
    "                row.append(int(matrix[centery][centerx] < matrix[j][i]))\n",
    "            else:\n",
    "                row.append(0)\n",
    "        binaryarr.append(row)\n",
    "        \n",
    " \n",
    "    return binaryarr"
   ]
  },
  {
   "cell_type": "code",
   "execution_count": 25,
   "metadata": {},
   "outputs": [],
   "source": [
    "# lbp(matrix(imageLBP[0],(0,0),))"
   ]
  },
  {
   "cell_type": "code",
   "execution_count": 26,
   "metadata": {},
   "outputs": [],
   "source": [
    "#binary matrix transform to array\n",
    "def matrixToArray(matrix):\n",
    "    arr = np.array(matrix)\n",
    "    return list(arr[0,:]) + list(arr[1:, -1]) + list(arr[-1, -2::-1]) + list(reversed(arr[1:-1, 0]))"
   ]
  },
  {
   "cell_type": "code",
   "execution_count": 27,
   "metadata": {},
   "outputs": [],
   "source": [
    "#binary array to decimal values\n",
    "def binToDec(binary):\n",
    "    power = [1, 2, 4, 8, 16, 32, 64, 128]\n",
    "    val = 0\n",
    "    for i in range(len(binary)):\n",
    "        val += binary[i] * power[i]\n",
    "    return val "
   ]
  },
  {
   "cell_type": "code",
   "execution_count": 28,
   "metadata": {},
   "outputs": [
    {
     "name": "stderr",
     "output_type": "stream",
     "text": [
      "100%|██████████████████████████████████████████████████████████████████████████████| 1000/1000 [12:24<00:00,  1.34it/s]\n"
     ]
    }
   ],
   "source": [
    "#all images to lbp look\n",
    "newImages = []\n",
    "for i in tqdm.tqdm(range(len(imageLBP))):\n",
    "    newImageLBP = imageLBP[i].copy()\n",
    "    for y in range(imageLBP[i].size[1]):\n",
    "        for x in range(imageLBP[i].size[0]):\n",
    "            neighbour = matrix(imageLBP[i],(x,y))\n",
    "            newImageLBP.putpixel((x, y), int(binToDec(matrixToArray(lbp(neighbour)))))\n",
    "    newImages.append(newImageLBP)"
   ]
  },
  {
   "cell_type": "code",
   "execution_count": 29,
   "metadata": {},
   "outputs": [
    {
     "name": "stderr",
     "output_type": "stream",
     "text": [
      "100%|██████████████████████████████████████████████████████████████████████████████| 1000/1000 [02:53<00:00,  5.76it/s]\n"
     ]
    }
   ],
   "source": [
    "#all images to lbp look 256x256\n",
    "newImageSize = []\n",
    "for i in tqdm.tqdm(range(len(imageLBPSize))):\n",
    "    newImageLBPSize = imageLBPSize[i].copy()\n",
    "    for y in range(imageLBPSize[i].size[1]):\n",
    "        for x in range(imageLBPSize[i].size[0]):\n",
    "            neighbour = matrix(imageLBPSize[i],(x,y))\n",
    "            newImageLBPSize.putpixel((x, y), int(binToDec(matrixToArray(lbp(neighbour)))))\n",
    "    newImageSize.append(newImageLBPSize)"
   ]
  },
  {
   "cell_type": "markdown",
   "metadata": {},
   "source": [
    "#### WITHOUT HISTOGRAM\n",
    "<hr>"
   ]
  },
  {
   "cell_type": "code",
   "execution_count": 34,
   "metadata": {},
   "outputs": [],
   "source": [
    "#create list of all images saved as pixel by pixel\n",
    "images1 = []\n",
    "for im in newImages:\n",
    "    images1.append(np.array(list(im.getdata())))"
   ]
  },
  {
   "cell_type": "code",
   "execution_count": 35,
   "metadata": {},
   "outputs": [],
   "source": [
    "#create list of all images saved as pixel by pixel 256x256\n",
    "imagesSize1 = []\n",
    "for im in newImageSize:\n",
    "    imagesSize1.append(np.array(list(im.getdata())))"
   ]
  },
  {
   "cell_type": "code",
   "execution_count": 36,
   "metadata": {},
   "outputs": [
    {
     "name": "stderr",
     "output_type": "stream",
     "text": [
      "100%|██████████████████████████████████████████████████████████████████████████████| 1000/1000 [01:16<00:00, 13.14it/s]\n"
     ]
    }
   ],
   "source": [
    "#EUCLID:calculate distance between each vector and save for each vector minimum distance WITHOUT HISTOGRAM\n",
    "minDist0 = []\n",
    "for i in tqdm.tqdm(range(len(images1))):\n",
    "    arr = []\n",
    "    for j in range(len(images1)):\n",
    "        if i!=j:\n",
    "            arr.append((i,j,euclidian(images1[i],images1[j])))\n",
    "    minDist0.append(sorted(arr, key=lambda x: x[2])[0])"
   ]
  },
  {
   "cell_type": "code",
   "execution_count": 37,
   "metadata": {},
   "outputs": [
    {
     "data": {
      "text/plain": [
       "0.05"
      ]
     },
     "execution_count": 37,
     "metadata": {},
     "output_type": "execute_result"
    }
   ],
   "source": [
    "#accuracy with euclid\n",
    "sum([imagePaths[minDist0[i][0]].split(\"/\")[-2] == imagePaths[minDist0[i][1]].split(\"/\")[-2] for i in range(len(minDist0))])/len(minDist0)"
   ]
  },
  {
   "cell_type": "code",
   "execution_count": 38,
   "metadata": {},
   "outputs": [
    {
     "name": "stderr",
     "output_type": "stream",
     "text": [
      "100%|██████████████████████████████████████████████████████████████████████████████| 1000/1000 [00:37<00:00, 26.33it/s]\n"
     ]
    }
   ],
   "source": [
    "#EUCLID:calculate distance between each vector and save for each vector minimum distance WITHOUT HISTOGRAM 256x256\n",
    "minDist0Size = []\n",
    "for i in tqdm.tqdm(range(len(imagesSize1))):\n",
    "    arr = []\n",
    "    for j in range(len(imagesSize1)):\n",
    "        if i!=j:\n",
    "            arr.append((i,j,euclidian(imagesSize1[i],imagesSize1[j])))\n",
    "    minDist0Size.append(sorted(arr, key=lambda x: x[2])[0])"
   ]
  },
  {
   "cell_type": "code",
   "execution_count": 39,
   "metadata": {},
   "outputs": [
    {
     "data": {
      "text/plain": [
       "0.113"
      ]
     },
     "execution_count": 39,
     "metadata": {},
     "output_type": "execute_result"
    }
   ],
   "source": [
    "#accuracy with euclid 256x256\n",
    "sum([imagePaths[minDist0Size[i][0]].split(\"/\")[-2] == imagePaths[minDist0Size[i][1]].split(\"/\")[-2] for i in range(len(minDist0Size))])/len(minDist0Size)"
   ]
  },
  {
   "cell_type": "code",
   "execution_count": 40,
   "metadata": {},
   "outputs": [
    {
     "name": "stderr",
     "output_type": "stream",
     "text": [
      "100%|██████████████████████████████████████████████████████████████████████████████| 1000/1000 [02:49<00:00,  5.91it/s]\n"
     ]
    }
   ],
   "source": [
    "#COSINE:calculate distance between each vector and save for each vector minimum distance WITHOUT HISTOGRAM\n",
    "minDist3 = []\n",
    "for i in tqdm.tqdm(range(len(images1))):\n",
    "    arr = []\n",
    "    for j in range(len(images1)):\n",
    "        if i!=j:\n",
    "            arr.append((i,j,cosine(images1[i],images1[j])))\n",
    "    minDist3.append(sorted(arr, key=lambda x: x[2])[0])"
   ]
  },
  {
   "cell_type": "code",
   "execution_count": 41,
   "metadata": {},
   "outputs": [
    {
     "data": {
      "text/plain": [
       "0.06"
      ]
     },
     "execution_count": 41,
     "metadata": {},
     "output_type": "execute_result"
    }
   ],
   "source": [
    "#accuracy with cosine\n",
    "sum([imagePaths[minDist3[i][0]].split(\"/\")[-2] == imagePaths[minDist3[i][1]].split(\"/\")[-2] for i in range(len(minDist3))])/len(minDist3)"
   ]
  },
  {
   "cell_type": "code",
   "execution_count": 42,
   "metadata": {},
   "outputs": [
    {
     "name": "stderr",
     "output_type": "stream",
     "text": [
      "100%|██████████████████████████████████████████████████████████████████████████████| 1000/1000 [01:34<00:00, 10.58it/s]\n"
     ]
    }
   ],
   "source": [
    "#COSINE:calculate distance between each vector and save for each vector minimum distance WITHOUT HISTOGRAM 256x256\n",
    "minDist3Size = []\n",
    "for i in tqdm.tqdm(range(len(imagesSize1))):\n",
    "    arr = []\n",
    "    for j in range(len(imagesSize1)):\n",
    "        if i!=j:\n",
    "            arr.append((i,j,cosine(imagesSize1[i],imagesSize1[j])))\n",
    "    minDist3Size.append(sorted(arr, key=lambda x: x[2])[0])"
   ]
  },
  {
   "cell_type": "code",
   "execution_count": 43,
   "metadata": {},
   "outputs": [
    {
     "data": {
      "text/plain": [
       "0.111"
      ]
     },
     "execution_count": 43,
     "metadata": {},
     "output_type": "execute_result"
    }
   ],
   "source": [
    "#accuracy with cosine\n",
    "sum([imagePaths[minDist3Size[i][0]].split(\"/\")[-2] == imagePaths[minDist3Size[i][1]].split(\"/\")[-2] for i in range(len(minDist3Size))])/len(minDist3Size)"
   ]
  },
  {
   "cell_type": "markdown",
   "metadata": {},
   "source": [
    "#### WITH HISTOGRAM\n",
    "<hr>"
   ]
  },
  {
   "cell_type": "code",
   "execution_count": 44,
   "metadata": {},
   "outputs": [
    {
     "name": "stderr",
     "output_type": "stream",
     "text": [
      "100%|██████████████████████████████████████████████████████████████████████████████| 1000/1000 [00:25<00:00, 38.95it/s]\n"
     ]
    }
   ],
   "source": [
    "#create dict of 256 fields of 0 and sum up repetition of each number\n",
    "#save dictionary for each image in qwerty \n",
    "qwerty = []\n",
    "for i in tqdm.tqdm(range(len(newImages))):\n",
    "    proba = newImages[i].copy()\n",
    "    values = {i:0 for i in range(256)}\n",
    "    for y in range(proba.size[1]):\n",
    "        for x in range(proba.size[0]):\n",
    "            values[proba.getpixel((x,y))]+=1\n",
    "    qwerty.append(list(values.values()))\n",
    "    "
   ]
  },
  {
   "cell_type": "code",
   "execution_count": 45,
   "metadata": {},
   "outputs": [
    {
     "name": "stderr",
     "output_type": "stream",
     "text": [
      "100%|█████████████████████████████████████████████████████████████████████████████| 1000/1000 [00:05<00:00, 173.25it/s]\n"
     ]
    }
   ],
   "source": [
    "#create dict of 256 fields of 0 and sum up repetition of each number\n",
    "#save dictionary for each image in qwerty \n",
    "#256x256\n",
    "qwertySize = []\n",
    "for i in tqdm.tqdm(range(len(newImageSize))):\n",
    "    proba = newImageSize[i].copy()\n",
    "    values = {i:0 for i in range(256)}\n",
    "    for y in range(proba.size[1]):\n",
    "        for x in range(proba.size[0]):\n",
    "            values[proba.getpixel((x,y))]+=1\n",
    "    qwertySize.append(list(values.values()))\n",
    "    "
   ]
  },
  {
   "cell_type": "code",
   "execution_count": 46,
   "metadata": {},
   "outputs": [
    {
     "name": "stderr",
     "output_type": "stream",
     "text": [
      "100%|██████████████████████████████████████████████████████████████████████████████| 1000/1000 [02:36<00:00,  6.39it/s]\n"
     ]
    }
   ],
   "source": [
    "#EUCLIDIAN: distance between HISTOGRAMS \n",
    "minDist1 = []\n",
    "for i in tqdm.tqdm(range(len(qwerty))):\n",
    "    arr = []\n",
    "    for j in range(len(qwerty)):\n",
    "        if i!=j:\n",
    "            arr.append((i,j,euclidian(qwerty[i],qwerty[j])+euclidian(images1[i],images1[j])))\n",
    "    minDist1.append(sorted(arr, key=lambda x: x[2])[0])"
   ]
  },
  {
   "cell_type": "code",
   "execution_count": 47,
   "metadata": {},
   "outputs": [
    {
     "data": {
      "text/plain": [
       "0.042"
      ]
     },
     "execution_count": 47,
     "metadata": {},
     "output_type": "execute_result"
    }
   ],
   "source": [
    "#accuracy with euclid\n",
    "sum([imagePaths[minDist1[i][0]].split(\"/\")[-2] == imagePaths[minDist1[i][1]].split(\"/\")[-2] for i in range(len(minDist1))])/len(minDist1)"
   ]
  },
  {
   "cell_type": "code",
   "execution_count": 48,
   "metadata": {},
   "outputs": [
    {
     "name": "stderr",
     "output_type": "stream",
     "text": [
      "100%|██████████████████████████████████████████████████████████████████████████████| 1000/1000 [01:56<00:00,  8.61it/s]\n"
     ]
    }
   ],
   "source": [
    "#EUCLIDIAN: distance between HISTOGRAMS 256x256\n",
    "minDist1Size = []\n",
    "for i in tqdm.tqdm(range(len(qwertySize))):\n",
    "    arr = []\n",
    "    for j in range(len(qwertySize)):\n",
    "        if i!=j:\n",
    "            arr.append((i,j,euclidian(qwertySize[i],qwertySize[j])+euclidian(imagesSize1[i],imagesSize1[j])))\n",
    "    minDist1Size.append(sorted(arr, key=lambda x: x[2])[0])"
   ]
  },
  {
   "cell_type": "code",
   "execution_count": 49,
   "metadata": {},
   "outputs": [
    {
     "data": {
      "text/plain": [
       "0.13"
      ]
     },
     "execution_count": 49,
     "metadata": {},
     "output_type": "execute_result"
    }
   ],
   "source": [
    "#accuracy with euclid 256x256\n",
    "sum([imagePaths[minDist1Size[i][0]].split(\"/\")[-2] == imagePaths[minDist1Size[i][1]].split(\"/\")[-2] for i in range(len(minDist1Size))])/len(minDist1Size)"
   ]
  },
  {
   "cell_type": "code",
   "execution_count": 50,
   "metadata": {},
   "outputs": [
    {
     "name": "stderr",
     "output_type": "stream",
     "text": [
      "100%|██████████████████████████████████████████████████████████████████████████████| 1000/1000 [05:15<00:00,  3.17it/s]\n"
     ]
    }
   ],
   "source": [
    "#COSINE: distance between HISTOGRAMS \n",
    "minDist6 = []\n",
    "for i in tqdm.tqdm(range(len(qwerty))):\n",
    "    arr = []\n",
    "    for j in range(len(qwerty)):\n",
    "        if i!=j:\n",
    "            arr.append((i,j,cosine(qwerty[i],qwerty[j])+ cosine(images1[i],images1[j])))\n",
    "    minDist6.append(sorted(arr, key=lambda x: x[2])[0])"
   ]
  },
  {
   "cell_type": "code",
   "execution_count": 51,
   "metadata": {},
   "outputs": [
    {
     "data": {
      "text/plain": [
       "0.037"
      ]
     },
     "execution_count": 51,
     "metadata": {},
     "output_type": "execute_result"
    }
   ],
   "source": [
    "#accuracy with cosine\n",
    "sum([imagePaths[minDist6[i][0]].split(\"/\")[-2] == imagePaths[minDist6[i][1]].split(\"/\")[-2] for i in range(len(minDist6))])/len(minDist6)"
   ]
  },
  {
   "cell_type": "code",
   "execution_count": 52,
   "metadata": {},
   "outputs": [
    {
     "name": "stderr",
     "output_type": "stream",
     "text": [
      "100%|██████████████████████████████████████████████████████████████████████████████| 1000/1000 [03:18<00:00,  5.04it/s]\n"
     ]
    }
   ],
   "source": [
    "#COSINE: distance between HISTOGRAMS 256x256\n",
    "minDist6Size = []\n",
    "for i in tqdm.tqdm(range(len(qwertySize))):\n",
    "    arr = []\n",
    "    for j in range(len(qwertySize)):\n",
    "        if i!=j:\n",
    "            arr.append((i,j,cosine(qwertySize[i],qwertySize[j])+ cosine(imagesSize1[i],imagesSize1[j])))\n",
    "    minDist6Size.append(sorted(arr, key=lambda x: x[2])[0])"
   ]
  },
  {
   "cell_type": "code",
   "execution_count": 53,
   "metadata": {},
   "outputs": [
    {
     "data": {
      "text/plain": [
       "0.103"
      ]
     },
     "execution_count": 53,
     "metadata": {},
     "output_type": "execute_result"
    }
   ],
   "source": [
    "#accuracy with cosine 256x256\n",
    "sum([imagePaths[minDist6Size[i][0]].split(\"/\")[-2] == imagePaths[minDist6Size[i][1]].split(\"/\")[-2] for i in range(len(minDist6Size))])/len(minDist6Size)"
   ]
  },
  {
   "cell_type": "markdown",
   "metadata": {},
   "source": [
    "# openCV\n",
    "<hr>\n"
   ]
  },
  {
   "cell_type": "code",
   "execution_count": 19,
   "metadata": {},
   "outputs": [],
   "source": [
    "def opencv(path,size=(128,128)):\n",
    "    image = cv2.imread(path,cv2.IMREAD_GRAYSCALE)\n",
    "    return cv2.resize(image,size,cv2.INTER_LINEAR)"
   ]
  },
  {
   "cell_type": "code",
   "execution_count": 20,
   "metadata": {},
   "outputs": [],
   "source": [
    "def describe(image,method,p=8,r=1):\n",
    "    lbp = feature.local_binary_pattern(image, p, r, method=method)\n",
    "    (hist, _) = np.histogram(lbp.ravel(), bins=np.arange(0, 257), range=(0, 256))\n",
    "   \n",
    "    return lbp,hist"
   ]
  },
  {
   "cell_type": "code",
   "execution_count": 21,
   "metadata": {},
   "outputs": [],
   "source": [
    "def insertmetod(method):\n",
    "    openlbp = []\n",
    "    openhist = []\n",
    "    for i in range(len(imagePaths)):\n",
    "        newOpen = opencv(imagePaths[i])\n",
    "        lbp,hist = describe(newOpen,method)\n",
    "        openlbp.append(lbp)\n",
    "        openhist.append(hist)\n",
    "    return openlbp,openhist"
   ]
  },
  {
   "cell_type": "code",
   "execution_count": 22,
   "metadata": {},
   "outputs": [],
   "source": [
    "#256x256\n",
    "def insertmetodSize(method):\n",
    "    openlbp = []\n",
    "    openhist = []\n",
    "    for i in range(len(imagePaths)):\n",
    "        newOpen = opencv(imagePaths[i],(64,64))\n",
    "        lbp,hist = describe(newOpen,method)\n",
    "        openlbp.append(lbp)\n",
    "        openhist.append(hist)\n",
    "    return openlbp,openhist"
   ]
  },
  {
   "cell_type": "code",
   "execution_count": 23,
   "metadata": {},
   "outputs": [],
   "source": [
    "opendefault, opendefaulthist = insertmetod('default')"
   ]
  },
  {
   "cell_type": "code",
   "execution_count": 24,
   "metadata": {},
   "outputs": [],
   "source": [
    "openuniform,openuniformhist = insertmetod('uniform')"
   ]
  },
  {
   "cell_type": "code",
   "execution_count": 25,
   "metadata": {},
   "outputs": [],
   "source": [
    "openror, openrorhist = insertmetod('ror')"
   ]
  },
  {
   "cell_type": "code",
   "execution_count": 26,
   "metadata": {},
   "outputs": [],
   "source": [
    "opendefaultSize, opendefaulthistSize = insertmetodSize('default')"
   ]
  },
  {
   "cell_type": "code",
   "execution_count": 27,
   "metadata": {},
   "outputs": [],
   "source": [
    "openuniformSize,openuniformhistSize = insertmetodSize('uniform')"
   ]
  },
  {
   "cell_type": "code",
   "execution_count": 28,
   "metadata": {},
   "outputs": [],
   "source": [
    "openrorSize, openrorhistSize = insertmetodSize('ror')"
   ]
  },
  {
   "cell_type": "code",
   "execution_count": null,
   "metadata": {},
   "outputs": [],
   "source": [
    "#EUCLID distance no hist\n",
    "def distance(imagePaths,openlbp):\n",
    "    minDistopen = []\n",
    "    for i in tqdm.tqdm(range(len(openlbp))):\n",
    "        arr = []\n",
    "        for j in range(len(openlbp)):\n",
    "            if i!=j:\n",
    "                arr.append((i,j,np.linalg.norm(openlbp[i]-openlbp[j])))\n",
    "        minDistopen.append(sorted(arr, key=lambda x: x[2])[0])\n",
    "    #accuracy with euclid\n",
    "    return sum([imagePaths[minDistopen[i][0]].split(\"/\")[-2] == imagePaths[minDistopen[i][1]].split(\"/\")[-2] for i in range(len(minDistopen))])/len(minDistopen)"
   ]
  },
  {
   "cell_type": "code",
   "execution_count": null,
   "metadata": {},
   "outputs": [],
   "source": [
    "distance(imagePaths,opendefault)"
   ]
  },
  {
   "cell_type": "code",
   "execution_count": null,
   "metadata": {},
   "outputs": [],
   "source": [
    "distance(imagePaths,openuniform)"
   ]
  },
  {
   "cell_type": "code",
   "execution_count": null,
   "metadata": {},
   "outputs": [],
   "source": [
    "distance(imagePaths,openror)"
   ]
  },
  {
   "cell_type": "code",
   "execution_count": null,
   "metadata": {},
   "outputs": [],
   "source": [
    "distance(imagePaths,opendefaultSize)"
   ]
  },
  {
   "cell_type": "code",
   "execution_count": null,
   "metadata": {},
   "outputs": [],
   "source": [
    "distance(imagePaths,openuniformSize)"
   ]
  },
  {
   "cell_type": "code",
   "execution_count": null,
   "metadata": {},
   "outputs": [],
   "source": [
    "distance(imagePaths,openrorSize)"
   ]
  },
  {
   "cell_type": "code",
   "execution_count": null,
   "metadata": {},
   "outputs": [],
   "source": [
    "#COSINE distance no hist\n",
    "def distanceCosine(imagePaths,openlbp):\n",
    "    minDistopen = []\n",
    "    for i in tqdm.tqdm(range(len(openlbp))):\n",
    "        arr = []\n",
    "        for j in range(len(openlbp)):\n",
    "            if i!=j:\n",
    "                arr.append((i,j,cosine(np.array(openlbp[i]).ravel(),np.array(openlbp[j]).ravel())))\n",
    "        minDistopen.append(sorted(arr, key=lambda x: x[2])[0])\n",
    "    #accuracy with euclid\n",
    "    return sum([imagePaths[minDistopen[i][0]].split(\"/\")[-2] == imagePaths[minDistopen[i][1]].split(\"/\")[-2] for i in range(len(minDistopen))])/len(minDistopen)"
   ]
  },
  {
   "cell_type": "code",
   "execution_count": null,
   "metadata": {},
   "outputs": [],
   "source": [
    "distanceCosine(imagePaths,opendefault)"
   ]
  },
  {
   "cell_type": "code",
   "execution_count": null,
   "metadata": {},
   "outputs": [],
   "source": [
    "distanceCosine(imagePaths,openuniform)"
   ]
  },
  {
   "cell_type": "code",
   "execution_count": null,
   "metadata": {},
   "outputs": [],
   "source": [
    "distanceCosine(imagePaths,openror)"
   ]
  },
  {
   "cell_type": "code",
   "execution_count": null,
   "metadata": {},
   "outputs": [],
   "source": [
    "distanceCosine(imagePaths,opendefaultSize)"
   ]
  },
  {
   "cell_type": "code",
   "execution_count": null,
   "metadata": {},
   "outputs": [],
   "source": [
    "distanceCosine(imagePaths,openuniformSize)"
   ]
  },
  {
   "cell_type": "code",
   "execution_count": null,
   "metadata": {},
   "outputs": [],
   "source": [
    "distanceCosine(imagePaths,openrorSize)"
   ]
  },
  {
   "cell_type": "code",
   "execution_count": null,
   "metadata": {},
   "outputs": [],
   "source": [
    "def distancehist(imagePaths,openlbp,openhist):\n",
    "    #EUCLIDIAN: distance between OPENCV DEFUALT HISTOGRAM\n",
    "    minDistopen1 = []\n",
    "    for i in tqdm.tqdm(range(len(openlbp))):\n",
    "        arr = []\n",
    "        for j in range(len(openlbp)):\n",
    "            if i!=j:\n",
    "                arr.append((i,j,np.linalg.norm(openlbp[i]-openlbp[j])+np.linalg.norm(openhist[i]-openhist[j])))\n",
    "        minDistopen1.append(sorted(arr, key=lambda x: x[2])[0])\n",
    "    #accuracy with euclid\n",
    "    return sum([imagePaths[minDistopen1[i][0]].split(\"/\")[-2] == imagePaths[minDistopen1[i][1]].split(\"/\")[-2] for i in range(len(minDistopen1))])/len(minDistopen1)"
   ]
  },
  {
   "cell_type": "code",
   "execution_count": null,
   "metadata": {},
   "outputs": [],
   "source": [
    "distancehist(imagePaths,opendefault,opendefaulthist)"
   ]
  },
  {
   "cell_type": "code",
   "execution_count": null,
   "metadata": {},
   "outputs": [],
   "source": [
    "distancehist(imagePaths,openuniform, openuniformhist)"
   ]
  },
  {
   "cell_type": "code",
   "execution_count": null,
   "metadata": {},
   "outputs": [],
   "source": [
    "distancehist(imagePaths,openror,openrorhist)"
   ]
  },
  {
   "cell_type": "code",
   "execution_count": null,
   "metadata": {},
   "outputs": [],
   "source": [
    "distancehist(imagePaths,opendefaultSize,opendefaulthistSize)"
   ]
  },
  {
   "cell_type": "code",
   "execution_count": null,
   "metadata": {},
   "outputs": [],
   "source": [
    "distancehist(imagePaths,openuniformSize, openuniformhistSize)"
   ]
  },
  {
   "cell_type": "code",
   "execution_count": null,
   "metadata": {},
   "outputs": [],
   "source": [
    "distancehist(imagePaths,openrorSize,openrorhistSize)"
   ]
  },
  {
   "cell_type": "code",
   "execution_count": 29,
   "metadata": {},
   "outputs": [],
   "source": [
    "def distancehistCosine(imagePaths,openlbp,openhist):\n",
    "    #COSINE: distance between OPENCV DEFUALT HISTOGRAM\n",
    "    minDistopen1 = []\n",
    "    for i in tqdm.tqdm(range(len(openlbp))):\n",
    "        arr = []\n",
    "        for j in range(len(openlbp)):\n",
    "            if i!=j:\n",
    "#                 arr.append((i,j,cosine(openlbp[i]-openlbp[j])+ cosine(openhist[i]-openhist[j])))\n",
    "                arr.append((i,j,cosine(np.array(openlbp[i]).ravel(),np.array(openlbp[j]).ravel()) + cosine(np.array(openhist[i]).ravel(),np.array(openhist[j]).ravel())))\n",
    "        minDistopen1.append(sorted(arr, key=lambda x: x[2])[0])\n",
    "    #accuracy with euclid\n",
    "    return sum([imagePaths[minDistopen1[i][0]].split(\"/\")[-2] == imagePaths[minDistopen1[i][1]].split(\"/\")[-2] for i in range(len(minDistopen1))])/len(minDistopen1)"
   ]
  },
  {
   "cell_type": "code",
   "execution_count": 30,
   "metadata": {},
   "outputs": [
    {
     "name": "stderr",
     "output_type": "stream",
     "text": [
      "100%|██████████████████████████████████████████████████████████████████████████████| 1000/1000 [02:40<00:00,  6.21it/s]\n"
     ]
    },
    {
     "data": {
      "text/plain": [
       "0.182"
      ]
     },
     "execution_count": 30,
     "metadata": {},
     "output_type": "execute_result"
    }
   ],
   "source": [
    "distancehistCosine(imagePaths,opendefault,opendefaulthist)"
   ]
  },
  {
   "cell_type": "code",
   "execution_count": 31,
   "metadata": {},
   "outputs": [
    {
     "name": "stderr",
     "output_type": "stream",
     "text": [
      "100%|██████████████████████████████████████████████████████████████████████████████| 1000/1000 [02:24<00:00,  6.93it/s]\n"
     ]
    },
    {
     "data": {
      "text/plain": [
       "0.048"
      ]
     },
     "execution_count": 31,
     "metadata": {},
     "output_type": "execute_result"
    }
   ],
   "source": [
    "distancehistCosine(imagePaths,openuniform, openuniformhist)"
   ]
  },
  {
   "cell_type": "code",
   "execution_count": 32,
   "metadata": {},
   "outputs": [
    {
     "name": "stderr",
     "output_type": "stream",
     "text": [
      "100%|██████████████████████████████████████████████████████████████████████████████| 1000/1000 [02:25<00:00,  6.88it/s]\n"
     ]
    },
    {
     "data": {
      "text/plain": [
       "0.051"
      ]
     },
     "execution_count": 32,
     "metadata": {},
     "output_type": "execute_result"
    }
   ],
   "source": [
    "distancehistCosine(imagePaths,openror,openrorhist)"
   ]
  },
  {
   "cell_type": "code",
   "execution_count": 33,
   "metadata": {},
   "outputs": [
    {
     "name": "stderr",
     "output_type": "stream",
     "text": [
      "100%|██████████████████████████████████████████████████████████████████████████████| 1000/1000 [01:59<00:00,  8.39it/s]\n"
     ]
    },
    {
     "data": {
      "text/plain": [
       "0.215"
      ]
     },
     "execution_count": 33,
     "metadata": {},
     "output_type": "execute_result"
    }
   ],
   "source": [
    "distancehistCosine(imagePaths,opendefaultSize,opendefaulthistSize)"
   ]
  },
  {
   "cell_type": "code",
   "execution_count": 34,
   "metadata": {},
   "outputs": [
    {
     "name": "stderr",
     "output_type": "stream",
     "text": [
      "100%|██████████████████████████████████████████████████████████████████████████████| 1000/1000 [01:39<00:00, 10.10it/s]\n"
     ]
    },
    {
     "data": {
      "text/plain": [
       "0.05"
      ]
     },
     "execution_count": 34,
     "metadata": {},
     "output_type": "execute_result"
    }
   ],
   "source": [
    "distancehistCosine(imagePaths,openuniformSize, openuniformhistSize)"
   ]
  },
  {
   "cell_type": "code",
   "execution_count": 35,
   "metadata": {},
   "outputs": [
    {
     "name": "stderr",
     "output_type": "stream",
     "text": [
      "100%|██████████████████████████████████████████████████████████████████████████████| 1000/1000 [01:51<00:00,  8.97it/s]\n"
     ]
    },
    {
     "data": {
      "text/plain": [
       "0.084"
      ]
     },
     "execution_count": 35,
     "metadata": {},
     "output_type": "execute_result"
    }
   ],
   "source": [
    "distancehistCosine(imagePaths,openrorSize,openrorhistSize)"
   ]
  },
  {
   "cell_type": "code",
   "execution_count": null,
   "metadata": {},
   "outputs": [],
   "source": []
  },
  {
   "cell_type": "code",
   "execution_count": null,
   "metadata": {},
   "outputs": [],
   "source": []
  }
 ],
 "metadata": {
  "kernelspec": {
   "display_name": "Python 3",
   "language": "python",
   "name": "python3"
  },
  "language_info": {
   "codemirror_mode": {
    "name": "ipython",
    "version": 3
   },
   "file_extension": ".py",
   "mimetype": "text/x-python",
   "name": "python",
   "nbconvert_exporter": "python",
   "pygments_lexer": "ipython3",
   "version": "3.7.4"
  }
 },
 "nbformat": 4,
 "nbformat_minor": 4
}
