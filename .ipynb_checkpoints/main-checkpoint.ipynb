{
 "cells": [
  {
   "cell_type": "code",
   "execution_count": 1,
   "metadata": {},
   "outputs": [],
   "source": [
    "import os\n",
    "from PIL import Image\n",
    "import numpy as np\n",
    "from scipy.spatial import distance\n",
    "import math\n",
    "import tqdm\n",
    "\n",
    "from scipy import spatial\n",
    "import cv2\n",
    "from skimage import feature"
   ]
  },
  {
   "cell_type": "markdown",
   "metadata": {},
   "source": [
    "# PIXEL BY PIXEL\n",
    "<hr>"
   ]
  },
  {
   "cell_type": "code",
   "execution_count": 2,
   "metadata": {},
   "outputs": [],
   "source": [
    "#read all images\n",
    "def loadImages(path = 'awe/'):\n",
    "    subfolders = [ f.path + \"/\" for f in os.scandir(path) if f.is_dir() ]\n",
    "    return [ f.path for images in subfolders for f in os.scandir(images) if f.name[-3:] == 'png']\n",
    "\n",
    "#convert image to greyscale and resize it to 128,128 if the other size not is given as argument\n",
    "def convert(image,size=(128, 128)):\n",
    "    return Image.open(image).convert(\"L\").resize(size)"
   ]
  },
  {
   "cell_type": "code",
   "execution_count": 3,
   "metadata": {},
   "outputs": [],
   "source": [
    "#save all path images in one array\n",
    "imagePaths = loadImages()"
   ]
  },
  {
   "cell_type": "code",
   "execution_count": 4,
   "metadata": {},
   "outputs": [],
   "source": [
    "#get image as one vector\n",
    "def pixelByPixel(image,size=(128,128)):\n",
    "    im = convert(image,size)\n",
    "    return np.array(list(im.getdata()))"
   ]
  },
  {
   "cell_type": "code",
   "execution_count": 5,
   "metadata": {},
   "outputs": [],
   "source": [
    "#calculate distances between 2 vectors\n",
    "def euclidian(im1,im2):\n",
    "    return distance.euclidean(im1, im2)"
   ]
  },
  {
   "cell_type": "code",
   "execution_count": 6,
   "metadata": {},
   "outputs": [],
   "source": [
    "#calculate distances between 2 vectors\n",
    "def cosine(im1,im2):\n",
    "    return distance.cosine(im1, im2)"
   ]
  },
  {
   "cell_type": "code",
   "execution_count": 7,
   "metadata": {},
   "outputs": [],
   "source": [
    "#create list of all images saved as pixel by pixel\n",
    "def load(size=(128,128)):\n",
    "    images = []\n",
    "    for i in loadImages():\n",
    "        images.append(pixelByPixel(i,size)) \n",
    "    return images"
   ]
  },
  {
   "cell_type": "code",
   "execution_count": 8,
   "metadata": {},
   "outputs": [],
   "source": [
    "#create list of all images saved as pixel by pixel 128x128\n",
    "images = load()"
   ]
  },
  {
   "cell_type": "code",
   "execution_count": 9,
   "metadata": {},
   "outputs": [],
   "source": [
    "#create list of all images saved as pixel by pixel 256x256\n",
    "imagesSize = load((64,64))"
   ]
  },
  {
   "cell_type": "code",
   "execution_count": 10,
   "metadata": {},
   "outputs": [],
   "source": [
    "#accuracy EUCLID:calculate distance between each vector and save for each vector minimum distance\n",
    "def euclidDist(images):\n",
    "    minDist = []\n",
    "    for i in tqdm.tqdm(range(len(images))):\n",
    "        arr = []\n",
    "        for j in range(len(images)):\n",
    "            if i!=j:\n",
    "                arr.append((i,j,euclidian(images[i],images[j])))\n",
    "        minDist.append(sorted(arr, key=lambda x: x[2])[0])\n",
    "    return sum([imagePaths[minDist[i][0]].split(\"/\")[-2] == imagePaths[minDist[i][1]].split(\"/\")[-2] for i in range(len(minDist))])/len(minDist)"
   ]
  },
  {
   "cell_type": "code",
   "execution_count": 11,
   "metadata": {},
   "outputs": [
    {
     "name": "stderr",
     "output_type": "stream",
     "text": [
      "100%|██████████████████████████████████████████████████████████████████████████████| 1000/1000 [00:54<00:00, 18.40it/s]\n"
     ]
    },
    {
     "data": {
      "text/plain": [
       "0.127"
      ]
     },
     "execution_count": 11,
     "metadata": {},
     "output_type": "execute_result"
    }
   ],
   "source": [
    "#pixel by pixel euclid distance 128x128\n",
    "euclidDist(images)"
   ]
  },
  {
   "cell_type": "code",
   "execution_count": 12,
   "metadata": {},
   "outputs": [
    {
     "name": "stderr",
     "output_type": "stream",
     "text": [
      "100%|██████████████████████████████████████████████████████████████████████████████| 1000/1000 [00:35<00:00, 27.84it/s]\n"
     ]
    },
    {
     "data": {
      "text/plain": [
       "0.125"
      ]
     },
     "execution_count": 12,
     "metadata": {},
     "output_type": "execute_result"
    }
   ],
   "source": [
    "#pixel by pixel euclid distance 64x64\n",
    "euclidDist(imagesSize)"
   ]
  },
  {
   "cell_type": "code",
   "execution_count": 13,
   "metadata": {},
   "outputs": [],
   "source": [
    "#accuracy COSINE:calculate distance between each vector and save for each vector minimum distance\n",
    "def cosineDist(images):\n",
    "    minDistcosin = []\n",
    "    for i in tqdm.tqdm(range(len(images))):\n",
    "        arr = []\n",
    "        for j in range(len(images)):\n",
    "            if i!=j:\n",
    "                arr.append((i,j,cosine(images[i],images[j])))\n",
    "        minDistcosin.append(sorted(arr, key=lambda x: x[2])[0])\n",
    "    return sum([imagePaths[minDistcosin[i][0]].split(\"/\")[-2] == imagePaths[minDistcosin[i][1]].split(\"/\")[-2] for i in range(len(minDistcosin))])/len(minDistcosin)"
   ]
  },
  {
   "cell_type": "code",
   "execution_count": 14,
   "metadata": {},
   "outputs": [
    {
     "name": "stderr",
     "output_type": "stream",
     "text": [
      "100%|██████████████████████████████████████████████████████████████████████████████| 1000/1000 [02:11<00:00,  7.59it/s]\n"
     ]
    },
    {
     "data": {
      "text/plain": [
       "0.169"
      ]
     },
     "execution_count": 14,
     "metadata": {},
     "output_type": "execute_result"
    }
   ],
   "source": [
    "#pixel by pixel cosine distance 128x128\n",
    "cosineDist(images)"
   ]
  },
  {
   "cell_type": "code",
   "execution_count": 15,
   "metadata": {},
   "outputs": [
    {
     "name": "stderr",
     "output_type": "stream",
     "text": [
      "100%|██████████████████████████████████████████████████████████████████████████████| 1000/1000 [01:03<00:00, 15.85it/s]\n"
     ]
    },
    {
     "data": {
      "text/plain": [
       "0.172"
      ]
     },
     "execution_count": 15,
     "metadata": {},
     "output_type": "execute_result"
    }
   ],
   "source": [
    "#pixel by pixel cosine distance 64x64\n",
    "cosineDist(imagesSize)"
   ]
  },
  {
   "cell_type": "markdown",
   "metadata": {},
   "source": [
    "# Local Binary Pattern\n",
    "<hr>"
   ]
  },
  {
   "cell_type": "code",
   "execution_count": 16,
   "metadata": {},
   "outputs": [],
   "source": [
    "#get all pictures as greyscale and size default 128x128\n",
    "def loadlbp(size=(128,128)):\n",
    "    imageLBP = []\n",
    "    for path in imagePaths:\n",
    "        imageLBP.append(convert(path,size))\n",
    "    return imageLBP"
   ]
  },
  {
   "cell_type": "code",
   "execution_count": 17,
   "metadata": {},
   "outputs": [],
   "source": [
    "#get all pictures as greyscale and size default 128x128\n",
    "imageLBP = loadlbp()"
   ]
  },
  {
   "cell_type": "code",
   "execution_count": 18,
   "metadata": {},
   "outputs": [],
   "source": [
    "#get all pictures as greyscale and size default 64x64\n",
    "imageLBPSize = loadlbp((64,64))"
   ]
  },
  {
   "cell_type": "code",
   "execution_count": 19,
   "metadata": {},
   "outputs": [],
   "source": [
    "# get matrix\n",
    "def matrix(image,currentPos,size=1):\n",
    "    region = []\n",
    "    for y in range(currentPos[1]-size,currentPos[1]+size+1):\n",
    "        if y < 0 or y >= image.size[1]:\n",
    "            row = [0 for _ in range(size * 2 + 1)]\n",
    "        else:\n",
    "            row = []\n",
    "            for x in range(currentPos[0]-size,currentPos[0]+size+1):\n",
    "                if x < 0 or x >= image.size[0]:\n",
    "                    row.append(0)\n",
    "                else:\n",
    "                    row.append(image.getpixel((x,y)))\n",
    "        region.append(row)\n",
    "    return region        "
   ]
  },
  {
   "cell_type": "code",
   "execution_count": 21,
   "metadata": {},
   "outputs": [],
   "source": [
    "# imageLBP[0]"
   ]
  },
  {
   "cell_type": "code",
   "execution_count": 22,
   "metadata": {},
   "outputs": [
    {
     "data": {
      "text/plain": [
       "[[0, 0, 0, 0, 0, 0, 0],\n",
       " [0, 0, 0, 0, 0, 0, 0],\n",
       " [0, 0, 0, 0, 0, 0, 0],\n",
       " [0, 0, 0, 194, 198, 201, 202],\n",
       " [0, 0, 0, 195, 197, 198, 199],\n",
       " [0, 0, 0, 199, 196, 195, 196],\n",
       " [0, 0, 0, 201, 199, 198, 193]]"
      ]
     },
     "execution_count": 22,
     "metadata": {},
     "output_type": "execute_result"
    }
   ],
   "source": [
    "matrix(imageLBP[0],(0,0),3)"
   ]
  },
  {
   "cell_type": "code",
   "execution_count": 23,
   "metadata": {},
   "outputs": [
    {
     "data": {
      "text/plain": [
       "[[0, 0, 0], [194, 198, 201], [197, 198, 199]]"
      ]
     },
     "execution_count": 23,
     "metadata": {},
     "output_type": "execute_result"
    }
   ],
   "source": [
    "# matrix1(imageLBP[0],(0,0),)"
   ]
  },
  {
   "cell_type": "code",
   "execution_count": 24,
   "metadata": {},
   "outputs": [],
   "source": [
    "#change values of matrix to 0 and 1\n",
    "def lbp(matrix):\n",
    "    binaryarr = []\n",
    "    centery,centerx = int(len(matrix) /2),int(len(matrix[0]) /2)\n",
    "    for j in range(len(matrix)):\n",
    "        row = []\n",
    "        for i in range(len(matrix[j])):\n",
    "            if (i,j) != (centerx,centery):\n",
    "                row.append(int(matrix[centery][centerx] < matrix[j][i]))\n",
    "            else:\n",
    "                row.append(0)\n",
    "        binaryarr.append(row)\n",
    "        \n",
    " \n",
    "    return binaryarr"
   ]
  },
  {
   "cell_type": "code",
   "execution_count": 25,
   "metadata": {},
   "outputs": [],
   "source": [
    "# lbp(matrix(imageLBP[0],(0,0),))"
   ]
  },
  {
   "cell_type": "code",
   "execution_count": 26,
   "metadata": {},
   "outputs": [],
   "source": [
    "#binary matrix transform to array\n",
    "def matrixToArray(matrix):\n",
    "    arr = np.array(matrix)\n",
    "    return list(arr[0,:]) + list(arr[1:, -1]) + list(arr[-1, -2::-1]) + list(reversed(arr[1:-1, 0]))"
   ]
  },
  {
   "cell_type": "code",
   "execution_count": 34,
   "metadata": {},
   "outputs": [],
   "source": [
    "#binary array to decimal values\n",
    "def binToDec(binary):\n",
    "    power = [1, 2, 4, 8, 16, 32, 64, 128]\n",
    "    val = 0\n",
    "    for i in range(len(binary)):\n",
    "#         val += binary[i] * power[i]\n",
    "        val = val * 2 + binary[i]\n",
    "    return val "
   ]
  },
  {
   "cell_type": "code",
   "execution_count": 35,
   "metadata": {},
   "outputs": [],
   "source": [
    "#all images to lbp look\n",
    "def imageToLBP(imageLBP,size=1):\n",
    "    newImages = []\n",
    "    for i in tqdm.tqdm(range(len(imageLBP))):\n",
    "        newImageLBP = imageLBP[i].copy()\n",
    "        for y in range(imageLBP[i].size[1]):\n",
    "            for x in range(imageLBP[i].size[0]):\n",
    "                neighbour = matrix(imageLBP[i],(x,y),size)\n",
    "                newImageLBP.putpixel((x, y), int(binToDec(matrixToArray(lbp(neighbour)))))\n",
    "        newImages.append(newImageLBP)\n",
    "    return newImages"
   ]
  },
  {
   "cell_type": "code",
   "execution_count": 36,
   "metadata": {},
   "outputs": [
    {
     "name": "stderr",
     "output_type": "stream",
     "text": [
      "100%|██████████████████████████████████████████████████████████████████████████████| 1000/1000 [09:23<00:00,  1.78it/s]\n"
     ]
    }
   ],
   "source": [
    "#all images to lbp look\n",
    "newImages = imageToLBP(imageLBP)"
   ]
  },
  {
   "cell_type": "code",
   "execution_count": 37,
   "metadata": {},
   "outputs": [
    {
     "name": "stderr",
     "output_type": "stream",
     "text": [
      "100%|██████████████████████████████████████████████████████████████████████████████| 1000/1000 [27:14<00:00,  1.63s/it]\n"
     ]
    }
   ],
   "source": [
    "#all images to lbp look different range = 2\n",
    "newImages2 = imageToLBP(imageLBP,3)"
   ]
  },
  {
   "cell_type": "code",
   "execution_count": 38,
   "metadata": {},
   "outputs": [
    {
     "name": "stderr",
     "output_type": "stream",
     "text": [
      "100%|██████████████████████████████████████████████████████████████████████████████| 1000/1000 [02:06<00:00,  7.89it/s]\n"
     ]
    }
   ],
   "source": [
    "#all images to lbp look 64x64\n",
    "newImageSize = imageToLBP(imageLBPSize)"
   ]
  },
  {
   "cell_type": "code",
   "execution_count": 39,
   "metadata": {},
   "outputs": [
    {
     "name": "stderr",
     "output_type": "stream",
     "text": [
      "100%|██████████████████████████████████████████████████████████████████████████████| 1000/1000 [08:15<00:00,  2.02it/s]\n"
     ]
    }
   ],
   "source": [
    "#all images to lbp look 64x64  different range 3\n",
    "newImageSize2 = imageToLBP(imageLBPSize,3)"
   ]
  },
  {
   "cell_type": "markdown",
   "metadata": {},
   "source": [
    "#### WITHOUT HISTOGRAM\n",
    "<hr>"
   ]
  },
  {
   "cell_type": "code",
   "execution_count": 40,
   "metadata": {},
   "outputs": [],
   "source": [
    "#create list of all images saved as pixel by pixel\n",
    "def lbppixelbypixel(newImages):\n",
    "    images = []\n",
    "    for im in newImages:\n",
    "        images.append(np.array(list(im.getdata()))) \n",
    "    return images"
   ]
  },
  {
   "cell_type": "code",
   "execution_count": 41,
   "metadata": {},
   "outputs": [],
   "source": [
    "images1 = lbppixelbypixel(newImages)"
   ]
  },
  {
   "cell_type": "code",
   "execution_count": 42,
   "metadata": {},
   "outputs": [],
   "source": [
    "images2 = lbppixelbypixel(newImages2)"
   ]
  },
  {
   "cell_type": "code",
   "execution_count": 43,
   "metadata": {},
   "outputs": [],
   "source": [
    "#create list of all images saved as pixel by pixel 64x64\n",
    "imagesSize1 = lbppixelbypixel(newImageSize)"
   ]
  },
  {
   "cell_type": "code",
   "execution_count": 44,
   "metadata": {},
   "outputs": [],
   "source": [
    "#create list of all images saved as pixel by pixel 64x64\n",
    "imagesSize2 = lbppixelbypixel(newImageSize2)"
   ]
  },
  {
   "cell_type": "code",
   "execution_count": 45,
   "metadata": {},
   "outputs": [
    {
     "name": "stderr",
     "output_type": "stream",
     "text": [
      "100%|██████████████████████████████████████████████████████████████████████████████| 1000/1000 [01:05<00:00, 15.30it/s]\n"
     ]
    },
    {
     "data": {
      "text/plain": [
       "0.095"
      ]
     },
     "execution_count": 45,
     "metadata": {},
     "output_type": "execute_result"
    }
   ],
   "source": [
    "#accuracy EUCLID:calculate distance between each vector and save for each vector minimum distance WITHOUT HISTOGRAM\n",
    "euclidDist(images1)"
   ]
  },
  {
   "cell_type": "code",
   "execution_count": 46,
   "metadata": {},
   "outputs": [
    {
     "name": "stderr",
     "output_type": "stream",
     "text": [
      "100%|██████████████████████████████████████████████████████████████████████████████| 1000/1000 [00:56<00:00, 17.73it/s]\n"
     ]
    },
    {
     "data": {
      "text/plain": [
       "0.013"
      ]
     },
     "execution_count": 46,
     "metadata": {},
     "output_type": "execute_result"
    }
   ],
   "source": [
    "#accuracy EUCLID:calculate distance between each vector and save for each vector minimum distance WITHOUT HISTOGRAM range 2\n",
    "euclidDist(images2)"
   ]
  },
  {
   "cell_type": "code",
   "execution_count": 47,
   "metadata": {},
   "outputs": [
    {
     "name": "stderr",
     "output_type": "stream",
     "text": [
      "100%|██████████████████████████████████████████████████████████████████████████████| 1000/1000 [00:28<00:00, 35.15it/s]\n"
     ]
    },
    {
     "data": {
      "text/plain": [
       "0.203"
      ]
     },
     "execution_count": 47,
     "metadata": {},
     "output_type": "execute_result"
    }
   ],
   "source": [
    "#accuracy with euclid 64x64\n",
    "euclidDist(imagesSize1)"
   ]
  },
  {
   "cell_type": "code",
   "execution_count": 48,
   "metadata": {},
   "outputs": [
    {
     "name": "stderr",
     "output_type": "stream",
     "text": [
      "100%|██████████████████████████████████████████████████████████████████████████████| 1000/1000 [00:30<00:00, 32.93it/s]\n"
     ]
    },
    {
     "data": {
      "text/plain": [
       "0.03"
      ]
     },
     "execution_count": 48,
     "metadata": {},
     "output_type": "execute_result"
    }
   ],
   "source": [
    "#accuracy with euclid 64x64 range 2\n",
    "euclidDist(imagesSize2)"
   ]
  },
  {
   "cell_type": "code",
   "execution_count": 49,
   "metadata": {},
   "outputs": [
    {
     "name": "stderr",
     "output_type": "stream",
     "text": [
      "100%|██████████████████████████████████████████████████████████████████████████████| 1000/1000 [02:13<00:00,  7.49it/s]\n"
     ]
    },
    {
     "data": {
      "text/plain": [
       "0.112"
      ]
     },
     "execution_count": 49,
     "metadata": {},
     "output_type": "execute_result"
    }
   ],
   "source": [
    "#accuracy COSINE:calculate distance between each vector and save for each vector minimum distance WITHOUT HISTOGRAM\n",
    "cosineDist(images1)"
   ]
  },
  {
   "cell_type": "code",
   "execution_count": 50,
   "metadata": {},
   "outputs": [
    {
     "name": "stderr",
     "output_type": "stream",
     "text": [
      "100%|██████████████████████████████████████████████████████████████████████████████| 1000/1000 [02:10<00:00,  7.66it/s]\n"
     ]
    },
    {
     "data": {
      "text/plain": [
       "0.014"
      ]
     },
     "execution_count": 50,
     "metadata": {},
     "output_type": "execute_result"
    }
   ],
   "source": [
    "#accuracy COSINE:calculate distance between each vector and save for each vector minimum distance WITHOUT HISTOGRAM range 2\n",
    "cosineDist(images2)"
   ]
  },
  {
   "cell_type": "code",
   "execution_count": 51,
   "metadata": {},
   "outputs": [
    {
     "name": "stderr",
     "output_type": "stream",
     "text": [
      "100%|██████████████████████████████████████████████████████████████████████████████| 1000/1000 [01:02<00:00, 16.00it/s]\n"
     ]
    },
    {
     "data": {
      "text/plain": [
       "0.217"
      ]
     },
     "execution_count": 51,
     "metadata": {},
     "output_type": "execute_result"
    }
   ],
   "source": [
    "#accuracy COSINE:calculate distance between each vector and save for each vector minimum distance WITHOUT HISTOGRAM 64x64\n",
    "cosineDist(imagesSize1)"
   ]
  },
  {
   "cell_type": "code",
   "execution_count": 52,
   "metadata": {},
   "outputs": [
    {
     "name": "stderr",
     "output_type": "stream",
     "text": [
      "100%|██████████████████████████████████████████████████████████████████████████████| 1000/1000 [01:02<00:00, 16.02it/s]\n"
     ]
    },
    {
     "data": {
      "text/plain": [
       "0.026"
      ]
     },
     "execution_count": 52,
     "metadata": {},
     "output_type": "execute_result"
    }
   ],
   "source": [
    "#accuracy COSINE:calculate distance between each vector and save for each vector minimum distance WITHOUT HISTOGRAM 64x64 range 2\n",
    "cosineDist(imagesSize2)"
   ]
  },
  {
   "cell_type": "markdown",
   "metadata": {},
   "source": [
    "#### WITH HISTOGRAM\n",
    "<hr>"
   ]
  },
  {
   "cell_type": "code",
   "execution_count": 53,
   "metadata": {},
   "outputs": [],
   "source": [
    "#create dict of 256 fields of 0 and sum up repetition of each number\n",
    "#save dictionary for each image in qwerty \n",
    "def dictionary(newImages):\n",
    "    qwerty = []\n",
    "    for i in tqdm.tqdm(range(len(newImages))):\n",
    "        proba = newImages[i].copy()\n",
    "        values = {i:0 for i in range(256)}\n",
    "        for y in range(proba.size[1]):\n",
    "            for x in range(proba.size[0]):\n",
    "                values[proba.getpixel((x,y))]+=1\n",
    "        qwerty.append(list(values.values()))\n",
    "    return qwerty"
   ]
  },
  {
   "cell_type": "code",
   "execution_count": 54,
   "metadata": {},
   "outputs": [
    {
     "name": "stderr",
     "output_type": "stream",
     "text": [
      "100%|██████████████████████████████████████████████████████████████████████████████| 1000/1000 [00:12<00:00, 79.99it/s]\n"
     ]
    }
   ],
   "source": [
    "#dictionary of values 128x128\n",
    "qwerty = dictionary(newImages)"
   ]
  },
  {
   "cell_type": "code",
   "execution_count": 55,
   "metadata": {},
   "outputs": [
    {
     "name": "stderr",
     "output_type": "stream",
     "text": [
      "100%|██████████████████████████████████████████████████████████████████████████████| 1000/1000 [00:13<00:00, 73.38it/s]\n"
     ]
    }
   ],
   "source": [
    "#dictionary of values 128x128 rang e2\n",
    "qwerty2 = dictionary(newImages2)"
   ]
  },
  {
   "cell_type": "code",
   "execution_count": 56,
   "metadata": {},
   "outputs": [
    {
     "name": "stderr",
     "output_type": "stream",
     "text": [
      "100%|█████████████████████████████████████████████████████████████████████████████| 1000/1000 [00:03<00:00, 299.11it/s]\n"
     ]
    }
   ],
   "source": [
    "#dictionary of values 64x64\n",
    "qwertySize = dictionary(newImageSize)"
   ]
  },
  {
   "cell_type": "code",
   "execution_count": 57,
   "metadata": {},
   "outputs": [
    {
     "name": "stderr",
     "output_type": "stream",
     "text": [
      "100%|█████████████████████████████████████████████████████████████████████████████| 1000/1000 [00:03<00:00, 307.02it/s]\n"
     ]
    }
   ],
   "source": [
    "#dictionary of values 64x64 range 2\n",
    "qwertySize2 = dictionary(newImageSize2)"
   ]
  },
  {
   "cell_type": "code",
   "execution_count": 58,
   "metadata": {},
   "outputs": [],
   "source": [
    "# accuracy EUCLIDIAN: distance between HISTOGRAMS \n",
    "def euclidDistHist(qwerty,images1):\n",
    "    minDist1 = []\n",
    "    for i in tqdm.tqdm(range(len(qwerty))):\n",
    "        arr = []\n",
    "        for j in range(len(qwerty)):\n",
    "            if i!=j:\n",
    "                arr.append((i,j,euclidian(qwerty[i],qwerty[j])+euclidian(images1[i],images1[j])))\n",
    "        minDist1.append(sorted(arr, key=lambda x: x[2])[0])\n",
    "        \n",
    "    return sum([imagePaths[minDist1[i][0]].split(\"/\")[-2] == imagePaths[minDist1[i][1]].split(\"/\")[-2] for i in range(len(minDist1))])/len(minDist1)"
   ]
  },
  {
   "cell_type": "code",
   "execution_count": null,
   "metadata": {},
   "outputs": [
    {
     "name": "stderr",
     "output_type": "stream",
     "text": [
      " 22%|█████████████████▏                                                             | 217/1000 [00:25<01:28,  8.85it/s]"
     ]
    }
   ],
   "source": [
    "euclidDistHist(qwerty,images1)"
   ]
  },
  {
   "cell_type": "code",
   "execution_count": null,
   "metadata": {},
   "outputs": [],
   "source": [
    "euclidDistHist(qwerty2,images2)"
   ]
  },
  {
   "cell_type": "code",
   "execution_count": null,
   "metadata": {},
   "outputs": [],
   "source": [
    "euclidDistHist(qwertySize,imagesSize1)"
   ]
  },
  {
   "cell_type": "code",
   "execution_count": null,
   "metadata": {},
   "outputs": [],
   "source": [
    "euclidDistHist(qwertySize2,imagesSize2)"
   ]
  },
  {
   "cell_type": "code",
   "execution_count": null,
   "metadata": {},
   "outputs": [],
   "source": [
    "# accuracy COSINE: distance between HISTOGRAMS \n",
    "def cosineDistHist(qwerty,images1):\n",
    "    minDist1 = []\n",
    "    for i in tqdm.tqdm(range(len(qwerty))):\n",
    "        arr = []\n",
    "        for j in range(len(qwerty)):\n",
    "            if i!=j:\n",
    "                arr.append((i,j,cosine(qwerty[i],qwerty[j])+cosine(images1[i],images1[j])))\n",
    "        minDist1.append(sorted(arr, key=lambda x: x[2])[0])\n",
    "        \n",
    "    return sum([imagePaths[minDist1[i][0]].split(\"/\")[-2] == imagePaths[minDist1[i][1]].split(\"/\")[-2] for i in range(len(minDist1))])/len(minDist1)"
   ]
  },
  {
   "cell_type": "code",
   "execution_count": null,
   "metadata": {},
   "outputs": [],
   "source": [
    "cosineDistHist(qwerty,images1)"
   ]
  },
  {
   "cell_type": "code",
   "execution_count": null,
   "metadata": {},
   "outputs": [],
   "source": [
    "cosineDistHist(qwerty2,images2)"
   ]
  },
  {
   "cell_type": "code",
   "execution_count": null,
   "metadata": {},
   "outputs": [],
   "source": [
    "cosineDistHist(qwertySize,imagesSize1)"
   ]
  },
  {
   "cell_type": "code",
   "execution_count": null,
   "metadata": {},
   "outputs": [],
   "source": [
    "cosineDistHist(qwertySize2,imagesSize2)"
   ]
  },
  {
   "cell_type": "markdown",
   "metadata": {},
   "source": [
    "# openCV\n",
    "<hr>\n"
   ]
  },
  {
   "cell_type": "code",
   "execution_count": null,
   "metadata": {},
   "outputs": [],
   "source": [
    "def opencv(path,size=(128,128)):\n",
    "    image = cv2.imread(path,cv2.IMREAD_GRAYSCALE)\n",
    "    return cv2.resize(image,size,cv2.INTER_LINEAR)"
   ]
  },
  {
   "cell_type": "code",
   "execution_count": null,
   "metadata": {},
   "outputs": [],
   "source": [
    "def describe(image,method,p=8,r=1):\n",
    "    lbp = feature.local_binary_pattern(image, p, r, method=method)\n",
    "    (hist, _) = np.histogram(lbp.ravel(), bins=np.arange(0, 257), range=(0, 256))\n",
    "   \n",
    "    return lbp,hist"
   ]
  },
  {
   "cell_type": "code",
   "execution_count": null,
   "metadata": {},
   "outputs": [],
   "source": [
    "def insertmetod(method,size=(128,128)):\n",
    "    openlbp = []\n",
    "    openhist = []\n",
    "    for i in range(len(imagePaths)):\n",
    "        newOpen = opencv(imagePaths[i])\n",
    "        lbp,hist = describe(newOpen,method)\n",
    "        openlbp.append(lbp)\n",
    "        openhist.append(hist)\n",
    "    return openlbp,openhist"
   ]
  },
  {
   "cell_type": "code",
   "execution_count": null,
   "metadata": {},
   "outputs": [],
   "source": [
    "# def insertmetod(method):\n",
    "#     openlbp = []\n",
    "#     openhist = []\n",
    "#     for i in range(len(imagePaths)):\n",
    "#         newOpen = opencv(imagePaths[i])\n",
    "#         lbp,hist = describe(newOpen,method)\n",
    "#         openlbp.append(lbp)\n",
    "#         openhist.append(hist)\n",
    "#     return openlbp,openhist"
   ]
  },
  {
   "cell_type": "code",
   "execution_count": null,
   "metadata": {},
   "outputs": [],
   "source": [
    "# #256x256\n",
    "# def insertmetodSize(method):\n",
    "#     openlbp = []\n",
    "#     openhist = []\n",
    "#     for i in range(len(imagePaths)):\n",
    "#         newOpen = opencv(imagePaths[i],(64,64))\n",
    "#         lbp,hist = describe(newOpen,method)\n",
    "#         openlbp.append(lbp)\n",
    "#         openhist.append(hist)\n",
    "#     return openlbp,openhist"
   ]
  },
  {
   "cell_type": "code",
   "execution_count": null,
   "metadata": {},
   "outputs": [],
   "source": [
    "opendefault, opendefaulthist = insertmetod('default')"
   ]
  },
  {
   "cell_type": "code",
   "execution_count": null,
   "metadata": {},
   "outputs": [],
   "source": [
    "openuniform,openuniformhist = insertmetod('uniform')"
   ]
  },
  {
   "cell_type": "code",
   "execution_count": null,
   "metadata": {},
   "outputs": [],
   "source": [
    "openror, openrorhist = insertmetod('ror')"
   ]
  },
  {
   "cell_type": "code",
   "execution_count": null,
   "metadata": {},
   "outputs": [],
   "source": [
    "opendefaultSize, opendefaulthistSize = insertmetod('default',(64,64))"
   ]
  },
  {
   "cell_type": "code",
   "execution_count": null,
   "metadata": {},
   "outputs": [],
   "source": [
    "# opendefaultSize, opendefaulthistSize = insertmetodSize('default')"
   ]
  },
  {
   "cell_type": "code",
   "execution_count": null,
   "metadata": {},
   "outputs": [],
   "source": [
    "openuniformSize,openuniformhistSize = insertmetod('uniform',(64,64))"
   ]
  },
  {
   "cell_type": "code",
   "execution_count": null,
   "metadata": {},
   "outputs": [],
   "source": [
    "# openuniformSize,openuniformhistSize = insertmetodSize('uniform')"
   ]
  },
  {
   "cell_type": "code",
   "execution_count": null,
   "metadata": {},
   "outputs": [],
   "source": [
    "openrorSize, openrorhistSize = insertmetod('ror',(64,64))"
   ]
  },
  {
   "cell_type": "code",
   "execution_count": null,
   "metadata": {},
   "outputs": [],
   "source": [
    "# openrorSize, openrorhistSize = insertmetodSize('ror')"
   ]
  },
  {
   "cell_type": "code",
   "execution_count": null,
   "metadata": {},
   "outputs": [],
   "source": [
    "#EUCLID distance no hist\n",
    "def distance(imagePaths,openlbp):\n",
    "    minDistopen = []\n",
    "    for i in tqdm.tqdm(range(len(openlbp))):\n",
    "        arr = []\n",
    "        for j in range(len(openlbp)):\n",
    "            if i!=j:\n",
    "                arr.append((i,j,np.linalg.norm(openlbp[i]-openlbp[j])))\n",
    "        minDistopen.append(sorted(arr, key=lambda x: x[2])[0])\n",
    "    #accuracy with euclid\n",
    "    return sum([imagePaths[minDistopen[i][0]].split(\"/\")[-2] == imagePaths[minDistopen[i][1]].split(\"/\")[-2] for i in range(len(minDistopen))])/len(minDistopen)"
   ]
  },
  {
   "cell_type": "code",
   "execution_count": null,
   "metadata": {},
   "outputs": [],
   "source": [
    "distance(imagePaths,opendefault)"
   ]
  },
  {
   "cell_type": "code",
   "execution_count": null,
   "metadata": {},
   "outputs": [],
   "source": [
    "distance(imagePaths,openuniform)"
   ]
  },
  {
   "cell_type": "code",
   "execution_count": null,
   "metadata": {},
   "outputs": [],
   "source": [
    "distance(imagePaths,openror)"
   ]
  },
  {
   "cell_type": "code",
   "execution_count": null,
   "metadata": {},
   "outputs": [],
   "source": [
    "distance(imagePaths,opendefaultSize)"
   ]
  },
  {
   "cell_type": "code",
   "execution_count": null,
   "metadata": {},
   "outputs": [],
   "source": [
    "distance(imagePaths,openuniformSize)"
   ]
  },
  {
   "cell_type": "code",
   "execution_count": null,
   "metadata": {},
   "outputs": [],
   "source": [
    "distance(imagePaths,openrorSize)"
   ]
  },
  {
   "cell_type": "code",
   "execution_count": null,
   "metadata": {},
   "outputs": [],
   "source": [
    "#COSINE distance no hist\n",
    "def distanceCosine(imagePaths,openlbp):\n",
    "    minDistopen = []\n",
    "    for i in tqdm.tqdm(range(len(openlbp))):\n",
    "        arr = []\n",
    "        for j in range(len(openlbp)):\n",
    "            if i!=j:\n",
    "                arr.append((i,j,cosine(np.array(openlbp[i]).ravel(),np.array(openlbp[j]).ravel())))\n",
    "        minDistopen.append(sorted(arr, key=lambda x: x[2])[0])\n",
    "    #accuracy with euclid\n",
    "    return sum([imagePaths[minDistopen[i][0]].split(\"/\")[-2] == imagePaths[minDistopen[i][1]].split(\"/\")[-2] for i in range(len(minDistopen))])/len(minDistopen)"
   ]
  },
  {
   "cell_type": "code",
   "execution_count": null,
   "metadata": {},
   "outputs": [],
   "source": [
    "distanceCosine(imagePaths,opendefault)"
   ]
  },
  {
   "cell_type": "code",
   "execution_count": null,
   "metadata": {},
   "outputs": [],
   "source": [
    "distanceCosine(imagePaths,openuniform)"
   ]
  },
  {
   "cell_type": "code",
   "execution_count": null,
   "metadata": {},
   "outputs": [],
   "source": [
    "distanceCosine(imagePaths,openror)"
   ]
  },
  {
   "cell_type": "code",
   "execution_count": null,
   "metadata": {},
   "outputs": [],
   "source": [
    "distanceCosine(imagePaths,opendefaultSize)"
   ]
  },
  {
   "cell_type": "code",
   "execution_count": null,
   "metadata": {},
   "outputs": [],
   "source": [
    "distanceCosine(imagePaths,openuniformSize)"
   ]
  },
  {
   "cell_type": "code",
   "execution_count": null,
   "metadata": {},
   "outputs": [],
   "source": [
    "distanceCosine(imagePaths,openrorSize)"
   ]
  },
  {
   "cell_type": "code",
   "execution_count": null,
   "metadata": {},
   "outputs": [],
   "source": [
    "def distancehist(imagePaths,openlbp,openhist):\n",
    "    #EUCLIDIAN: distance between OPENCV DEFUALT HISTOGRAM\n",
    "    minDistopen1 = []\n",
    "    for i in tqdm.tqdm(range(len(openlbp))):\n",
    "        arr = []\n",
    "        for j in range(len(openlbp)):\n",
    "            if i!=j:\n",
    "                arr.append((i,j,np.linalg.norm(openlbp[i]-openlbp[j])+np.linalg.norm(openhist[i]-openhist[j])))\n",
    "        minDistopen1.append(sorted(arr, key=lambda x: x[2])[0])\n",
    "    #accuracy with euclid\n",
    "    return sum([imagePaths[minDistopen1[i][0]].split(\"/\")[-2] == imagePaths[minDistopen1[i][1]].split(\"/\")[-2] for i in range(len(minDistopen1))])/len(minDistopen1)"
   ]
  },
  {
   "cell_type": "code",
   "execution_count": null,
   "metadata": {},
   "outputs": [],
   "source": [
    "distancehist(imagePaths,opendefault,opendefaulthist)"
   ]
  },
  {
   "cell_type": "code",
   "execution_count": null,
   "metadata": {},
   "outputs": [],
   "source": [
    "distancehist(imagePaths,openuniform, openuniformhist)"
   ]
  },
  {
   "cell_type": "code",
   "execution_count": null,
   "metadata": {},
   "outputs": [],
   "source": [
    "distancehist(imagePaths,openror,openrorhist)"
   ]
  },
  {
   "cell_type": "code",
   "execution_count": null,
   "metadata": {},
   "outputs": [],
   "source": [
    "distancehist(imagePaths,opendefaultSize,opendefaulthistSize)"
   ]
  },
  {
   "cell_type": "code",
   "execution_count": null,
   "metadata": {},
   "outputs": [],
   "source": [
    "distancehist(imagePaths,openuniformSize, openuniformhistSize)"
   ]
  },
  {
   "cell_type": "code",
   "execution_count": null,
   "metadata": {},
   "outputs": [],
   "source": [
    "distancehist(imagePaths,openrorSize,openrorhistSize)"
   ]
  },
  {
   "cell_type": "code",
   "execution_count": null,
   "metadata": {},
   "outputs": [],
   "source": [
    "def def distancehistCosine(imagePaths,openlbp,openhist):\n",
    "    #COSINE: distance between OPENCV DEFUALT HISTOGRAM\n",
    "    minDistopen1 = []\n",
    "    for i in tqdm.tqdm(range(len(openlbp))):\n",
    "        arr = []\n",
    "        for j in range(len(openlbp)):\n",
    "            if i!=j:\n",
    "#                 arr.append((i,j,cosine(openlbp[i]-openlbp[j])+ cosine(openhist[i]-openhist[j])))\n",
    "                arr.append((i,j,cosine(np.array(openlbp[i]).ravel(),np.array(openlbp[j]).ravel()) + cosine(np.array(openhist[i]).ravel(),np.array(openhist[j]).ravel())))\n",
    "        minDistopen1.append(sorted(arr, key=lambda x: x[2])[0])\n",
    "    #accuracy with euclid\n",
    "    return sum([imagePaths[minDistopen1[i][0]].split(\"/\")[-2] == imagePaths[minDistopen1[i][1]].split(\"/\")[-2] for i in range(len(minDistopen1))])/len(minDistopen1)"
   ]
  },
  {
   "cell_type": "code",
   "execution_count": null,
   "metadata": {},
   "outputs": [],
   "source": [
    "distancehistCosine(imagePaths,opendefault,opendefaulthist)"
   ]
  },
  {
   "cell_type": "code",
   "execution_count": null,
   "metadata": {},
   "outputs": [],
   "source": [
    "distancehistCosine(imagePaths,openuniform, openuniformhist)"
   ]
  },
  {
   "cell_type": "code",
   "execution_count": null,
   "metadata": {},
   "outputs": [],
   "source": [
    "distancehistCosine(imagePaths,openror,openrorhist)"
   ]
  },
  {
   "cell_type": "code",
   "execution_count": null,
   "metadata": {},
   "outputs": [],
   "source": [
    "distancehistCosine(imagePaths,opendefaultSize,opendefaulthistSize)"
   ]
  },
  {
   "cell_type": "code",
   "execution_count": null,
   "metadata": {},
   "outputs": [],
   "source": [
    "distancehistCosine(imagePaths,openuniformSize, openuniformhistSize)"
   ]
  },
  {
   "cell_type": "code",
   "execution_count": null,
   "metadata": {},
   "outputs": [],
   "source": [
    "distancehistCosine(imagePaths,openrorSize,openrorhistSize)"
   ]
  },
  {
   "cell_type": "code",
   "execution_count": null,
   "metadata": {},
   "outputs": [],
   "source": []
  },
  {
   "cell_type": "code",
   "execution_count": null,
   "metadata": {},
   "outputs": [],
   "source": []
  }
 ],
 "metadata": {
  "kernelspec": {
   "display_name": "Python 3",
   "language": "python",
   "name": "python3"
  },
  "language_info": {
   "codemirror_mode": {
    "name": "ipython",
    "version": 3
   },
   "file_extension": ".py",
   "mimetype": "text/x-python",
   "name": "python",
   "nbconvert_exporter": "python",
   "pygments_lexer": "ipython3",
   "version": "3.7.4"
  }
 },
 "nbformat": 4,
 "nbformat_minor": 4
}
